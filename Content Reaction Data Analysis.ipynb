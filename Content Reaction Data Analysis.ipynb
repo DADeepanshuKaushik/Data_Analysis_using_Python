{
 "cells": [
  {
   "cell_type": "markdown",
   "id": "613edeff-0fb0-413c-b132-e3be6788a277",
   "metadata": {},
   "source": [
    "## <span style=\"color:brown;\"><center> Content Reactions Data Analysis </center></span>"
   ]
  },
  {
   "cell_type": "code",
   "execution_count": 1,
   "id": "a3b39cf5-53dd-4ca0-9e2b-e54860bd2076",
   "metadata": {
    "tags": []
   },
   "outputs": [],
   "source": [
    "# Import Required Libraries\n",
    "import numpy as np\n",
    "import pandas as pd\n",
    "import matplotlib.pyplot as plt\n",
    "import seaborn as sns"
   ]
  },
  {
   "cell_type": "markdown",
   "id": "ac5b844c-3184-4067-bb1a-262fd8258b94",
   "metadata": {},
   "source": [
    "#### Read Data"
   ]
  },
  {
   "cell_type": "code",
   "execution_count": 3,
   "id": "339ea4d6-03bb-49a7-a416-0de9de47443c",
   "metadata": {
    "tags": []
   },
   "outputs": [],
   "source": [
    "# Read excel file using Sheet name\n",
    "content=pd.read_excel('Content Reaction.xlsx',sheet_name='Content_Reactions')"
   ]
  },
  {
   "cell_type": "code",
   "execution_count": 5,
   "id": "3ceb565e-f894-4dea-a474-a9c88fdc04a9",
   "metadata": {
    "tags": []
   },
   "outputs": [
    {
     "data": {
      "text/html": [
       "<div>\n",
       "<style scoped>\n",
       "    .dataframe tbody tr th:only-of-type {\n",
       "        vertical-align: middle;\n",
       "    }\n",
       "\n",
       "    .dataframe tbody tr th {\n",
       "        vertical-align: top;\n",
       "    }\n",
       "\n",
       "    .dataframe thead th {\n",
       "        text-align: right;\n",
       "    }\n",
       "</style>\n",
       "<table border=\"1\" class=\"dataframe\">\n",
       "  <thead>\n",
       "    <tr style=\"text-align: right;\">\n",
       "      <th></th>\n",
       "      <th>Column1</th>\n",
       "      <th>Content ID</th>\n",
       "      <th>Type</th>\n",
       "      <th>Datetime</th>\n",
       "      <th>User ID</th>\n",
       "      <th>Type4</th>\n",
       "      <th>Category</th>\n",
       "      <th>Sentiment</th>\n",
       "      <th>Score</th>\n",
       "    </tr>\n",
       "  </thead>\n",
       "  <tbody>\n",
       "    <tr>\n",
       "      <th>0</th>\n",
       "      <td>1</td>\n",
       "      <td>97522e57-d9ab-4bd6-97bf-c24d952602d2</td>\n",
       "      <td>disgust</td>\n",
       "      <td>2020-11-07 09:43:50</td>\n",
       "      <td>8d3cd87d-8a31-4935-9a4f-b319bfe05f31</td>\n",
       "      <td>photo</td>\n",
       "      <td>Studying</td>\n",
       "      <td>negative</td>\n",
       "      <td>0</td>\n",
       "    </tr>\n",
       "    <tr>\n",
       "      <th>1</th>\n",
       "      <td>2</td>\n",
       "      <td>97522e57-d9ab-4bd6-97bf-c24d952602d2</td>\n",
       "      <td>dislike</td>\n",
       "      <td>2021-06-17 12:22:51</td>\n",
       "      <td>8d3cd87d-8a31-4935-9a4f-b319bfe05f31</td>\n",
       "      <td>photo</td>\n",
       "      <td>Studying</td>\n",
       "      <td>negative</td>\n",
       "      <td>10</td>\n",
       "    </tr>\n",
       "    <tr>\n",
       "      <th>2</th>\n",
       "      <td>3</td>\n",
       "      <td>97522e57-d9ab-4bd6-97bf-c24d952602d2</td>\n",
       "      <td>scared</td>\n",
       "      <td>2021-04-18 05:13:58</td>\n",
       "      <td>8d3cd87d-8a31-4935-9a4f-b319bfe05f31</td>\n",
       "      <td>photo</td>\n",
       "      <td>Studying</td>\n",
       "      <td>negative</td>\n",
       "      <td>15</td>\n",
       "    </tr>\n",
       "    <tr>\n",
       "      <th>3</th>\n",
       "      <td>4</td>\n",
       "      <td>97522e57-d9ab-4bd6-97bf-c24d952602d2</td>\n",
       "      <td>disgust</td>\n",
       "      <td>2021-01-06 19:13:01</td>\n",
       "      <td>8d3cd87d-8a31-4935-9a4f-b319bfe05f31</td>\n",
       "      <td>photo</td>\n",
       "      <td>Studying</td>\n",
       "      <td>negative</td>\n",
       "      <td>0</td>\n",
       "    </tr>\n",
       "    <tr>\n",
       "      <th>4</th>\n",
       "      <td>5</td>\n",
       "      <td>97522e57-d9ab-4bd6-97bf-c24d952602d2</td>\n",
       "      <td>interested</td>\n",
       "      <td>2020-08-23 12:25:58</td>\n",
       "      <td>8d3cd87d-8a31-4935-9a4f-b319bfe05f31</td>\n",
       "      <td>photo</td>\n",
       "      <td>Studying</td>\n",
       "      <td>positive</td>\n",
       "      <td>30</td>\n",
       "    </tr>\n",
       "    <tr>\n",
       "      <th>...</th>\n",
       "      <td>...</td>\n",
       "      <td>...</td>\n",
       "      <td>...</td>\n",
       "      <td>...</td>\n",
       "      <td>...</td>\n",
       "      <td>...</td>\n",
       "      <td>...</td>\n",
       "      <td>...</td>\n",
       "      <td>...</td>\n",
       "    </tr>\n",
       "    <tr>\n",
       "      <th>24568</th>\n",
       "      <td>25548</td>\n",
       "      <td>75d6b589-7fae-4a6d-b0d0-752845150e56</td>\n",
       "      <td>dislike</td>\n",
       "      <td>2020-06-27 09:46:48</td>\n",
       "      <td>b8c653b5-0118-4d7e-9bde-07c2de90f0ff</td>\n",
       "      <td>audio</td>\n",
       "      <td>technology</td>\n",
       "      <td>negative</td>\n",
       "      <td>10</td>\n",
       "    </tr>\n",
       "    <tr>\n",
       "      <th>24569</th>\n",
       "      <td>25549</td>\n",
       "      <td>75d6b589-7fae-4a6d-b0d0-752845150e56</td>\n",
       "      <td>intrigued</td>\n",
       "      <td>2021-02-16 17:17:02</td>\n",
       "      <td>b8c653b5-0118-4d7e-9bde-07c2de90f0ff</td>\n",
       "      <td>audio</td>\n",
       "      <td>technology</td>\n",
       "      <td>positive</td>\n",
       "      <td>45</td>\n",
       "    </tr>\n",
       "    <tr>\n",
       "      <th>24570</th>\n",
       "      <td>25550</td>\n",
       "      <td>75d6b589-7fae-4a6d-b0d0-752845150e56</td>\n",
       "      <td>interested</td>\n",
       "      <td>2020-09-12 03:54:58</td>\n",
       "      <td>b8c653b5-0118-4d7e-9bde-07c2de90f0ff</td>\n",
       "      <td>audio</td>\n",
       "      <td>technology</td>\n",
       "      <td>positive</td>\n",
       "      <td>30</td>\n",
       "    </tr>\n",
       "    <tr>\n",
       "      <th>24571</th>\n",
       "      <td>25551</td>\n",
       "      <td>75d6b589-7fae-4a6d-b0d0-752845150e56</td>\n",
       "      <td>worried</td>\n",
       "      <td>2020-11-04 20:08:31</td>\n",
       "      <td>b8c653b5-0118-4d7e-9bde-07c2de90f0ff</td>\n",
       "      <td>audio</td>\n",
       "      <td>technology</td>\n",
       "      <td>negative</td>\n",
       "      <td>12</td>\n",
       "    </tr>\n",
       "    <tr>\n",
       "      <th>24572</th>\n",
       "      <td>25552</td>\n",
       "      <td>75d6b589-7fae-4a6d-b0d0-752845150e56</td>\n",
       "      <td>cherish</td>\n",
       "      <td>2021-01-04 04:55:11</td>\n",
       "      <td>b8c653b5-0118-4d7e-9bde-07c2de90f0ff</td>\n",
       "      <td>audio</td>\n",
       "      <td>technology</td>\n",
       "      <td>positive</td>\n",
       "      <td>70</td>\n",
       "    </tr>\n",
       "  </tbody>\n",
       "</table>\n",
       "<p>24573 rows × 9 columns</p>\n",
       "</div>"
      ],
      "text/plain": [
       "       Column1                            Content ID        Type  \\\n",
       "0            1  97522e57-d9ab-4bd6-97bf-c24d952602d2     disgust   \n",
       "1            2  97522e57-d9ab-4bd6-97bf-c24d952602d2     dislike   \n",
       "2            3  97522e57-d9ab-4bd6-97bf-c24d952602d2      scared   \n",
       "3            4  97522e57-d9ab-4bd6-97bf-c24d952602d2     disgust   \n",
       "4            5  97522e57-d9ab-4bd6-97bf-c24d952602d2  interested   \n",
       "...        ...                                   ...         ...   \n",
       "24568    25548  75d6b589-7fae-4a6d-b0d0-752845150e56     dislike   \n",
       "24569    25549  75d6b589-7fae-4a6d-b0d0-752845150e56   intrigued   \n",
       "24570    25550  75d6b589-7fae-4a6d-b0d0-752845150e56  interested   \n",
       "24571    25551  75d6b589-7fae-4a6d-b0d0-752845150e56     worried   \n",
       "24572    25552  75d6b589-7fae-4a6d-b0d0-752845150e56     cherish   \n",
       "\n",
       "                 Datetime                               User ID  Type4  \\\n",
       "0     2020-11-07 09:43:50  8d3cd87d-8a31-4935-9a4f-b319bfe05f31  photo   \n",
       "1     2021-06-17 12:22:51  8d3cd87d-8a31-4935-9a4f-b319bfe05f31  photo   \n",
       "2     2021-04-18 05:13:58  8d3cd87d-8a31-4935-9a4f-b319bfe05f31  photo   \n",
       "3     2021-01-06 19:13:01  8d3cd87d-8a31-4935-9a4f-b319bfe05f31  photo   \n",
       "4     2020-08-23 12:25:58  8d3cd87d-8a31-4935-9a4f-b319bfe05f31  photo   \n",
       "...                   ...                                   ...    ...   \n",
       "24568 2020-06-27 09:46:48  b8c653b5-0118-4d7e-9bde-07c2de90f0ff  audio   \n",
       "24569 2021-02-16 17:17:02  b8c653b5-0118-4d7e-9bde-07c2de90f0ff  audio   \n",
       "24570 2020-09-12 03:54:58  b8c653b5-0118-4d7e-9bde-07c2de90f0ff  audio   \n",
       "24571 2020-11-04 20:08:31  b8c653b5-0118-4d7e-9bde-07c2de90f0ff  audio   \n",
       "24572 2021-01-04 04:55:11  b8c653b5-0118-4d7e-9bde-07c2de90f0ff  audio   \n",
       "\n",
       "         Category Sentiment  Score  \n",
       "0        Studying  negative      0  \n",
       "1        Studying  negative     10  \n",
       "2        Studying  negative     15  \n",
       "3        Studying  negative      0  \n",
       "4        Studying  positive     30  \n",
       "...           ...       ...    ...  \n",
       "24568  technology  negative     10  \n",
       "24569  technology  positive     45  \n",
       "24570  technology  positive     30  \n",
       "24571  technology  negative     12  \n",
       "24572  technology  positive     70  \n",
       "\n",
       "[24573 rows x 9 columns]"
      ]
     },
     "execution_count": 5,
     "metadata": {},
     "output_type": "execute_result"
    }
   ],
   "source": [
    "# Show the dataframe\n",
    "content"
   ]
  },
  {
   "cell_type": "markdown",
   "id": "a89c137f-327f-4da8-90a1-4cc37639be7c",
   "metadata": {},
   "source": [
    "#### Understand and Clean the Data"
   ]
  },
  {
   "cell_type": "code",
   "execution_count": 7,
   "id": "f9647cc7-00f8-42f2-af69-723a0fbb457d",
   "metadata": {
    "tags": []
   },
   "outputs": [
    {
     "data": {
      "text/plain": [
       "(24573, 9)"
      ]
     },
     "execution_count": 7,
     "metadata": {},
     "output_type": "execute_result"
    }
   ],
   "source": [
    "# See the shape of the dataframe (no. of rows and columns)\n",
    "content.shape"
   ]
  },
  {
   "cell_type": "code",
   "execution_count": 9,
   "id": "a1ba0462-1c06-4e53-8e70-438f4008ac95",
   "metadata": {
    "tags": []
   },
   "outputs": [
    {
     "name": "stdout",
     "output_type": "stream",
     "text": [
      "<class 'pandas.core.frame.DataFrame'>\n",
      "RangeIndex: 24573 entries, 0 to 24572\n",
      "Data columns (total 9 columns):\n",
      " #   Column      Non-Null Count  Dtype         \n",
      "---  ------      --------------  -----         \n",
      " 0   Column1     24573 non-null  int64         \n",
      " 1   Content ID  24573 non-null  object        \n",
      " 2   Type        24573 non-null  object        \n",
      " 3   Datetime    24573 non-null  datetime64[ns]\n",
      " 4   User ID     24573 non-null  object        \n",
      " 5   Type4       24573 non-null  object        \n",
      " 6   Category    24573 non-null  object        \n",
      " 7   Sentiment   24573 non-null  object        \n",
      " 8   Score       24573 non-null  int64         \n",
      "dtypes: datetime64[ns](1), int64(2), object(6)\n",
      "memory usage: 1.7+ MB\n"
     ]
    }
   ],
   "source": [
    "# See the structure or info of dataframe\n",
    "content.info()"
   ]
  },
  {
   "cell_type": "code",
   "execution_count": 11,
   "id": "dc2a442b-3226-4ecc-be67-cc49d5b3fd04",
   "metadata": {
    "tags": []
   },
   "outputs": [
    {
     "data": {
      "text/plain": [
       "Index(['Column1', 'Content ID', 'Type', 'Datetime', 'User ID', 'Type4',\n",
       "       'Category', 'Sentiment', 'Score'],\n",
       "      dtype='object')"
      ]
     },
     "execution_count": 11,
     "metadata": {},
     "output_type": "execute_result"
    }
   ],
   "source": [
    "# See the columns name\n",
    "content.columns"
   ]
  },
  {
   "cell_type": "code",
   "execution_count": 13,
   "id": "704ba534-cfbc-4541-af2a-2769800d502b",
   "metadata": {
    "tags": []
   },
   "outputs": [
    {
     "data": {
      "text/plain": [
       "Column1       0\n",
       "Content ID    0\n",
       "Type          0\n",
       "Datetime      0\n",
       "User ID       0\n",
       "Type4         0\n",
       "Category      0\n",
       "Sentiment     0\n",
       "Score         0\n",
       "dtype: int64"
      ]
     },
     "execution_count": 13,
     "metadata": {},
     "output_type": "execute_result"
    }
   ],
   "source": [
    "# Check the null values\n",
    "content.isnull().sum()"
   ]
  },
  {
   "cell_type": "code",
   "execution_count": 15,
   "id": "d04f12a1-8baa-42a6-8077-628b16014f02",
   "metadata": {
    "tags": []
   },
   "outputs": [
    {
     "data": {
      "text/plain": [
       "Column1       24573\n",
       "Content ID      962\n",
       "Type             16\n",
       "Datetime      24562\n",
       "User ID         438\n",
       "Type4             4\n",
       "Category         29\n",
       "Sentiment         3\n",
       "Score            15\n",
       "dtype: int64"
      ]
     },
     "execution_count": 15,
     "metadata": {},
     "output_type": "execute_result"
    }
   ],
   "source": [
    "# Check no. of unique values\n",
    "content.nunique()"
   ]
  },
  {
   "cell_type": "code",
   "execution_count": 17,
   "id": "909b5d15-40d1-47d3-9d35-f61fb0f02d4c",
   "metadata": {
    "tags": []
   },
   "outputs": [
    {
     "data": {
      "text/plain": [
       "Column1                int64\n",
       "Content ID            object\n",
       "Type                  object\n",
       "Datetime      datetime64[ns]\n",
       "User ID               object\n",
       "Type4                 object\n",
       "Category              object\n",
       "Sentiment             object\n",
       "Score                  int64\n",
       "dtype: object"
      ]
     },
     "execution_count": 17,
     "metadata": {},
     "output_type": "execute_result"
    }
   ],
   "source": [
    "# Check the datatype of columns\n",
    "content.dtypes"
   ]
  },
  {
   "cell_type": "code",
   "execution_count": 19,
   "id": "9be23272-17fa-4bad-955c-c976aeb9b73b",
   "metadata": {
    "tags": []
   },
   "outputs": [
    {
     "data": {
      "text/plain": [
       "array(['photo', 'video', 'GIF', 'audio'], dtype=object)"
      ]
     },
     "execution_count": 19,
     "metadata": {},
     "output_type": "execute_result"
    }
   ],
   "source": [
    "# Check the unique values of 'Content Type'\n",
    "content['Type4'].unique()"
   ]
  },
  {
   "cell_type": "code",
   "execution_count": 21,
   "id": "482df477-ef27-4949-ab63-bf7eea3bb122",
   "metadata": {
    "tags": []
   },
   "outputs": [
    {
     "data": {
      "text/plain": [
       "array(['disgust', 'dislike', 'scared', 'interested', 'peeking', 'cherish',\n",
       "       'hate', 'love', 'indifferent', 'super love', 'intrigued',\n",
       "       'worried', 'like', 'heart', 'want', 'adore'], dtype=object)"
      ]
     },
     "execution_count": 21,
     "metadata": {},
     "output_type": "execute_result"
    }
   ],
   "source": [
    "# Check the unique values of 'Reaction Type'\n",
    "content['Type'].unique()"
   ]
  },
  {
   "cell_type": "code",
   "execution_count": 23,
   "id": "730b4d2a-fd41-4a4a-b831-05bc63e4bc54",
   "metadata": {
    "tags": []
   },
   "outputs": [
    {
     "data": {
      "text/plain": [
       "array(['Studying', 'healthy eating', 'technology', 'food', 'cooking',\n",
       "       'dogs', 'soccer', 'public speaking', 'science', 'tennis', 'travel',\n",
       "       'fitness', 'education', 'studying', 'veganism', 'Animals',\n",
       "       'animals', 'culture', 'Fitness', 'Veganism', 'Travel', 'Education',\n",
       "       'Technology', 'Soccer', 'Culture', 'Food', 'Healthy Eating',\n",
       "       'Science', 'Public Speaking'], dtype=object)"
      ]
     },
     "execution_count": 23,
     "metadata": {},
     "output_type": "execute_result"
    }
   ],
   "source": [
    "# Check the unique values of 'Content Category'\n",
    "content['Category'].unique()"
   ]
  },
  {
   "cell_type": "markdown",
   "id": "804e9515-75af-4785-8ef1-4cfaf4a5c9b5",
   "metadata": {},
   "source": [
    "#### Here we found some values repeated i.e. Animals and animals, food and Food etc. Let's merge them."
   ]
  },
  {
   "cell_type": "code",
   "execution_count": 25,
   "id": "16cee3cc-44dc-424a-aea6-f3dbd709e3d4",
   "metadata": {
    "tags": []
   },
   "outputs": [],
   "source": [
    "# Replace values \n",
    "content.replace(to_replace=['Studying','Animals','Fitness','Veganism','Travel','Education','Technology','Soccer','Culture','Food','Healthy Eating','Science','Public Speaking'],value=['studying','animals','fitness','veganism','travel','education','technology','soccer','culture','food','healthy eating','science','public speaking'],inplace=True)"
   ]
  },
  {
   "cell_type": "code",
   "execution_count": 27,
   "id": "555f2f75-3960-4e4c-9a87-bbdf09b91141",
   "metadata": {
    "tags": []
   },
   "outputs": [
    {
     "data": {
      "text/plain": [
       "Column1       24573\n",
       "Content ID      962\n",
       "Type             16\n",
       "Datetime      24562\n",
       "User ID         438\n",
       "Type4             4\n",
       "Category         16\n",
       "Sentiment         3\n",
       "Score            15\n",
       "dtype: int64"
      ]
     },
     "execution_count": 27,
     "metadata": {},
     "output_type": "execute_result"
    }
   ],
   "source": [
    "content.nunique()"
   ]
  },
  {
   "cell_type": "code",
   "execution_count": 29,
   "id": "02da615c-060f-41b1-b6f6-e40ee6db5405",
   "metadata": {
    "tags": []
   },
   "outputs": [
    {
     "data": {
      "text/plain": [
       "array(['studying', 'healthy eating', 'technology', 'food', 'cooking',\n",
       "       'dogs', 'soccer', 'public speaking', 'science', 'tennis', 'travel',\n",
       "       'fitness', 'education', 'veganism', 'animals', 'culture'],\n",
       "      dtype=object)"
      ]
     },
     "execution_count": 29,
     "metadata": {},
     "output_type": "execute_result"
    }
   ],
   "source": [
    "# Again check the unique values in category column\n",
    "content['Category'].unique()"
   ]
  },
  {
   "cell_type": "code",
   "execution_count": 31,
   "id": "28002a30-581b-4ef2-af1e-e0a7fb1ecf80",
   "metadata": {
    "tags": []
   },
   "outputs": [
    {
     "data": {
      "text/plain": [
       "array(['negative', 'positive', 'neutral'], dtype=object)"
      ]
     },
     "execution_count": 31,
     "metadata": {},
     "output_type": "execute_result"
    }
   ],
   "source": [
    "# Check the unique values of 'Sentiment' column\n",
    "content['Sentiment'].unique()"
   ]
  },
  {
   "cell_type": "code",
   "execution_count": 33,
   "id": "0a9d6d84-c0fb-4b03-8a1d-ab14f212d07d",
   "metadata": {
    "tags": []
   },
   "outputs": [
    {
     "data": {
      "text/html": [
       "<div>\n",
       "<style scoped>\n",
       "    .dataframe tbody tr th:only-of-type {\n",
       "        vertical-align: middle;\n",
       "    }\n",
       "\n",
       "    .dataframe tbody tr th {\n",
       "        vertical-align: top;\n",
       "    }\n",
       "\n",
       "    .dataframe thead th {\n",
       "        text-align: right;\n",
       "    }\n",
       "</style>\n",
       "<table border=\"1\" class=\"dataframe\">\n",
       "  <thead>\n",
       "    <tr style=\"text-align: right;\">\n",
       "      <th></th>\n",
       "      <th>Column1</th>\n",
       "      <th>Content ID</th>\n",
       "      <th>Type</th>\n",
       "      <th>Datetime</th>\n",
       "      <th>User ID</th>\n",
       "      <th>Type4</th>\n",
       "      <th>Category</th>\n",
       "      <th>Sentiment</th>\n",
       "      <th>Score</th>\n",
       "    </tr>\n",
       "  </thead>\n",
       "  <tbody>\n",
       "  </tbody>\n",
       "</table>\n",
       "</div>"
      ],
      "text/plain": [
       "Empty DataFrame\n",
       "Columns: [Column1, Content ID, Type, Datetime, User ID, Type4, Category, Sentiment, Score]\n",
       "Index: []"
      ]
     },
     "execution_count": 33,
     "metadata": {},
     "output_type": "execute_result"
    }
   ],
   "source": [
    "# Check duplicate values if any\n",
    "content[content.duplicated()]"
   ]
  },
  {
   "cell_type": "markdown",
   "id": "cc56dbfb-04c0-4d93-a87a-c52a85c290ab",
   "metadata": {},
   "source": [
    "#### So, now we have clean data without duplicates or null. Let's do Analysis"
   ]
  },
  {
   "cell_type": "markdown",
   "id": "a5635e4f-378a-4774-bee2-f185155c11f1",
   "metadata": {},
   "source": [
    "#### Analyze the Data"
   ]
  },
  {
   "cell_type": "code",
   "execution_count": 35,
   "id": "4189a424-7629-4524-9216-eda467979a71",
   "metadata": {
    "tags": []
   },
   "outputs": [
    {
     "data": {
      "text/html": [
       "<div>\n",
       "<style scoped>\n",
       "    .dataframe tbody tr th:only-of-type {\n",
       "        vertical-align: middle;\n",
       "    }\n",
       "\n",
       "    .dataframe tbody tr th {\n",
       "        vertical-align: top;\n",
       "    }\n",
       "\n",
       "    .dataframe thead th {\n",
       "        text-align: right;\n",
       "    }\n",
       "</style>\n",
       "<table border=\"1\" class=\"dataframe\">\n",
       "  <thead>\n",
       "    <tr style=\"text-align: right;\">\n",
       "      <th></th>\n",
       "      <th>Column1</th>\n",
       "      <th>Content ID</th>\n",
       "      <th>Type</th>\n",
       "      <th>Datetime</th>\n",
       "      <th>User ID</th>\n",
       "      <th>Type4</th>\n",
       "      <th>Category</th>\n",
       "      <th>Sentiment</th>\n",
       "      <th>Score</th>\n",
       "    </tr>\n",
       "  </thead>\n",
       "  <tbody>\n",
       "    <tr>\n",
       "      <th>count</th>\n",
       "      <td>24573.000000</td>\n",
       "      <td>24573</td>\n",
       "      <td>24573</td>\n",
       "      <td>24573</td>\n",
       "      <td>24573</td>\n",
       "      <td>24573</td>\n",
       "      <td>24573</td>\n",
       "      <td>24573</td>\n",
       "      <td>24573.000000</td>\n",
       "    </tr>\n",
       "    <tr>\n",
       "      <th>unique</th>\n",
       "      <td>NaN</td>\n",
       "      <td>962</td>\n",
       "      <td>16</td>\n",
       "      <td>NaN</td>\n",
       "      <td>438</td>\n",
       "      <td>4</td>\n",
       "      <td>16</td>\n",
       "      <td>3</td>\n",
       "      <td>NaN</td>\n",
       "    </tr>\n",
       "    <tr>\n",
       "      <th>top</th>\n",
       "      <td>NaN</td>\n",
       "      <td>5bb364a6-8646-4cdb-b1cf-09f4125718d8</td>\n",
       "      <td>heart</td>\n",
       "      <td>NaN</td>\n",
       "      <td>72d2587e-8fae-4626-a73d-352e6465ba0f</td>\n",
       "      <td>photo</td>\n",
       "      <td>animals</td>\n",
       "      <td>positive</td>\n",
       "      <td>NaN</td>\n",
       "    </tr>\n",
       "    <tr>\n",
       "      <th>freq</th>\n",
       "      <td>NaN</td>\n",
       "      <td>48</td>\n",
       "      <td>1622</td>\n",
       "      <td>NaN</td>\n",
       "      <td>217</td>\n",
       "      <td>6589</td>\n",
       "      <td>1897</td>\n",
       "      <td>13807</td>\n",
       "      <td>NaN</td>\n",
       "    </tr>\n",
       "    <tr>\n",
       "      <th>mean</th>\n",
       "      <td>12774.614821</td>\n",
       "      <td>NaN</td>\n",
       "      <td>NaN</td>\n",
       "      <td>2020-12-17 06:35:24.454278912</td>\n",
       "      <td>NaN</td>\n",
       "      <td>NaN</td>\n",
       "      <td>NaN</td>\n",
       "      <td>NaN</td>\n",
       "      <td>39.622553</td>\n",
       "    </tr>\n",
       "    <tr>\n",
       "      <th>min</th>\n",
       "      <td>1.000000</td>\n",
       "      <td>NaN</td>\n",
       "      <td>NaN</td>\n",
       "      <td>2020-06-18 08:07:22</td>\n",
       "      <td>NaN</td>\n",
       "      <td>NaN</td>\n",
       "      <td>NaN</td>\n",
       "      <td>NaN</td>\n",
       "      <td>0.000000</td>\n",
       "    </tr>\n",
       "    <tr>\n",
       "      <th>25%</th>\n",
       "      <td>6383.000000</td>\n",
       "      <td>NaN</td>\n",
       "      <td>NaN</td>\n",
       "      <td>2020-09-16 18:51:38</td>\n",
       "      <td>NaN</td>\n",
       "      <td>NaN</td>\n",
       "      <td>NaN</td>\n",
       "      <td>NaN</td>\n",
       "      <td>15.000000</td>\n",
       "    </tr>\n",
       "    <tr>\n",
       "      <th>50%</th>\n",
       "      <td>12775.000000</td>\n",
       "      <td>NaN</td>\n",
       "      <td>NaN</td>\n",
       "      <td>2020-12-17 06:08:30</td>\n",
       "      <td>NaN</td>\n",
       "      <td>NaN</td>\n",
       "      <td>NaN</td>\n",
       "      <td>NaN</td>\n",
       "      <td>35.000000</td>\n",
       "    </tr>\n",
       "    <tr>\n",
       "      <th>75%</th>\n",
       "      <td>19168.000000</td>\n",
       "      <td>NaN</td>\n",
       "      <td>NaN</td>\n",
       "      <td>2021-03-17 12:05:06</td>\n",
       "      <td>NaN</td>\n",
       "      <td>NaN</td>\n",
       "      <td>NaN</td>\n",
       "      <td>NaN</td>\n",
       "      <td>65.000000</td>\n",
       "    </tr>\n",
       "    <tr>\n",
       "      <th>max</th>\n",
       "      <td>25552.000000</td>\n",
       "      <td>NaN</td>\n",
       "      <td>NaN</td>\n",
       "      <td>2021-06-18 08:30:29</td>\n",
       "      <td>NaN</td>\n",
       "      <td>NaN</td>\n",
       "      <td>NaN</td>\n",
       "      <td>NaN</td>\n",
       "      <td>75.000000</td>\n",
       "    </tr>\n",
       "    <tr>\n",
       "      <th>std</th>\n",
       "      <td>7379.314372</td>\n",
       "      <td>NaN</td>\n",
       "      <td>NaN</td>\n",
       "      <td>NaN</td>\n",
       "      <td>NaN</td>\n",
       "      <td>NaN</td>\n",
       "      <td>NaN</td>\n",
       "      <td>NaN</td>\n",
       "      <td>26.043011</td>\n",
       "    </tr>\n",
       "  </tbody>\n",
       "</table>\n",
       "</div>"
      ],
      "text/plain": [
       "             Column1                            Content ID   Type  \\\n",
       "count   24573.000000                                 24573  24573   \n",
       "unique           NaN                                   962     16   \n",
       "top              NaN  5bb364a6-8646-4cdb-b1cf-09f4125718d8  heart   \n",
       "freq             NaN                                    48   1622   \n",
       "mean    12774.614821                                   NaN    NaN   \n",
       "min         1.000000                                   NaN    NaN   \n",
       "25%      6383.000000                                   NaN    NaN   \n",
       "50%     12775.000000                                   NaN    NaN   \n",
       "75%     19168.000000                                   NaN    NaN   \n",
       "max     25552.000000                                   NaN    NaN   \n",
       "std      7379.314372                                   NaN    NaN   \n",
       "\n",
       "                             Datetime                               User ID  \\\n",
       "count                           24573                                 24573   \n",
       "unique                            NaN                                   438   \n",
       "top                               NaN  72d2587e-8fae-4626-a73d-352e6465ba0f   \n",
       "freq                              NaN                                   217   \n",
       "mean    2020-12-17 06:35:24.454278912                                   NaN   \n",
       "min               2020-06-18 08:07:22                                   NaN   \n",
       "25%               2020-09-16 18:51:38                                   NaN   \n",
       "50%               2020-12-17 06:08:30                                   NaN   \n",
       "75%               2021-03-17 12:05:06                                   NaN   \n",
       "max               2021-06-18 08:30:29                                   NaN   \n",
       "std                               NaN                                   NaN   \n",
       "\n",
       "        Type4 Category Sentiment         Score  \n",
       "count   24573    24573     24573  24573.000000  \n",
       "unique      4       16         3           NaN  \n",
       "top     photo  animals  positive           NaN  \n",
       "freq     6589     1897     13807           NaN  \n",
       "mean      NaN      NaN       NaN     39.622553  \n",
       "min       NaN      NaN       NaN      0.000000  \n",
       "25%       NaN      NaN       NaN     15.000000  \n",
       "50%       NaN      NaN       NaN     35.000000  \n",
       "75%       NaN      NaN       NaN     65.000000  \n",
       "max       NaN      NaN       NaN     75.000000  \n",
       "std       NaN      NaN       NaN     26.043011  "
      ]
     },
     "execution_count": 35,
     "metadata": {},
     "output_type": "execute_result"
    }
   ],
   "source": [
    "# Check statistical details of all column\n",
    "content.describe(include='all')"
   ]
  },
  {
   "cell_type": "code",
   "execution_count": 37,
   "id": "2603de20-aba7-4582-864c-bc2c792b7c3a",
   "metadata": {
    "tags": []
   },
   "outputs": [
    {
     "data": {
      "text/plain": [
       "7695"
      ]
     },
     "execution_count": 37,
     "metadata": {},
     "output_type": "execute_result"
    }
   ],
   "source": [
    "# Check no. of negative reaction\n",
    "content[content.Sentiment=='negative'].value_counts().sum()"
   ]
  },
  {
   "cell_type": "code",
   "execution_count": 39,
   "id": "39db100f-ce5b-430a-a313-12047d38480b",
   "metadata": {
    "tags": []
   },
   "outputs": [
    {
     "data": {
      "text/plain": [
       "13807"
      ]
     },
     "execution_count": 39,
     "metadata": {},
     "output_type": "execute_result"
    }
   ],
   "source": [
    "# Check no. of positive reaction\n",
    "content[content.Sentiment=='positive'].value_counts().sum()"
   ]
  },
  {
   "cell_type": "code",
   "execution_count": 41,
   "id": "57d8aa0e-bb09-4032-93ed-7c1fe1040fa8",
   "metadata": {
    "tags": []
   },
   "outputs": [
    {
     "data": {
      "text/plain": [
       "2057"
      ]
     },
     "execution_count": 41,
     "metadata": {},
     "output_type": "execute_result"
    }
   ],
   "source": [
    "# Check no. of negative reaction on photo\n",
    "content[(content.Type4=='photo') & (content.Sentiment=='negative')].value_counts().sum()"
   ]
  },
  {
   "cell_type": "code",
   "execution_count": 43,
   "id": "27da7528-a7e5-444f-9732-8f410f97ba18",
   "metadata": {
    "tags": []
   },
   "outputs": [
    {
     "data": {
      "text/plain": [
       "3700"
      ]
     },
     "execution_count": 43,
     "metadata": {},
     "output_type": "execute_result"
    }
   ],
   "source": [
    "# Check no. of positive reaction on photo\n",
    "content[(content.Type4=='photo') & (content.Sentiment=='positive')].value_counts().sum()"
   ]
  },
  {
   "cell_type": "code",
   "execution_count": 45,
   "id": "792350f0-d419-445d-b84a-92b8bb8f87cc",
   "metadata": {
    "tags": []
   },
   "outputs": [
    {
     "data": {
      "text/plain": [
       "973645"
      ]
     },
     "execution_count": 45,
     "metadata": {},
     "output_type": "execute_result"
    }
   ],
   "source": [
    "# Total score value\n",
    "content.Score.sum()"
   ]
  },
  {
   "cell_type": "code",
   "execution_count": 47,
   "id": "a0a1b823-cbdf-4a61-94ae-d7141b981622",
   "metadata": {
    "tags": []
   },
   "outputs": [
    {
     "data": {
      "text/plain": [
       "Type4\n",
       "photo    262838\n",
       "video    246463\n",
       "GIF      238217\n",
       "audio    226127\n",
       "Name: Score, dtype: int64"
      ]
     },
     "execution_count": 47,
     "metadata": {},
     "output_type": "execute_result"
    }
   ],
   "source": [
    "# Total score categorized by Content type\n",
    "c=content.groupby(by='Type4').Score.sum()\n",
    "c.sort_values(ascending=False)"
   ]
  },
  {
   "cell_type": "code",
   "execution_count": 49,
   "id": "42df9851-2c94-4836-b63f-e88c408b81c7",
   "metadata": {
    "tags": []
   },
   "outputs": [
    {
     "data": {
      "image/png": "[encoded data removed]",
      "text/plain": [
       "<Figure size 640x480 with 1 Axes>"
      ]
     },
     "metadata": {},
     "output_type": "display_data"
    }
   ],
   "source": [
    "# Create barplot to see visual form\n",
    "ab=sns.barplot(content,x='Type4',y='Score',estimator='sum')\n",
    "for i in ab.containers:\n",
    "    ab.bar_label(i,)\n",
    "plt.xlabel('Content Type')\n",
    "plt.show()"
   ]
  },
  {
   "cell_type": "markdown",
   "id": "cc66bf2c-5308-4b66-ab5d-3d4420966f7b",
   "metadata": {},
   "source": [
    "#### Here we found maximum people reacts on photo content"
   ]
  },
  {
   "cell_type": "code",
   "execution_count": 51,
   "id": "3958dec6-0a37-42a2-ace8-2ef09a4ab13f",
   "metadata": {
    "tags": []
   },
   "outputs": [
    {
     "data": {
      "text/plain": [
       "Sentiment\n",
       "positive    824056\n",
       "neutral      84805\n",
       "negative     64784\n",
       "Name: Score, dtype: int64"
      ]
     },
     "execution_count": 51,
     "metadata": {},
     "output_type": "execute_result"
    }
   ],
   "source": [
    "# Total score categorized by Reaction sentiment\n",
    "c=content.groupby(by='Sentiment').Score.sum()\n",
    "c.sort_values(ascending=False)"
   ]
  },
  {
   "cell_type": "code",
   "execution_count": 53,
   "id": "1edebd77-b838-4ef8-8884-33e2af0a999e",
   "metadata": {
    "tags": []
   },
   "outputs": [
    {
     "data": {
      "text/plain": [
       "Sentiment\n",
       "positive    84.64\n",
       "neutral      8.71\n",
       "negative     6.65\n",
       "Name: Score, dtype: float64"
      ]
     },
     "execution_count": 53,
     "metadata": {},
     "output_type": "execute_result"
    }
   ],
   "source": [
    "# Check the percent ratio of Sentiment and Score\n",
    "a=content.groupby(by='Sentiment').Score.sum()\n",
    "a=a.sort_values(ascending=False)\n",
    "b=content.Score.sum()\n",
    "((a/b)*100).round(2)"
   ]
  },
  {
   "cell_type": "code",
   "execution_count": 55,
   "id": "25fb3adc-65b1-4403-ba6e-8c5eb0d02841",
   "metadata": {
    "tags": []
   },
   "outputs": [
    {
     "data": {
      "image/png": "[encoded data removed]",
      "text/plain": [
       "<Figure size 640x480 with 1 Axes>"
      ]
     },
     "metadata": {},
     "output_type": "display_data"
    }
   ],
   "source": [
    "# Create visual or barplot\n",
    "ad=sns.barplot(content,x='Sentiment',y='Score',estimator='sum')\n",
    "for i in ad.containers:\n",
    "    ad.bar_label(i,)"
   ]
  },
  {
   "cell_type": "markdown",
   "id": "77ccadad-3637-4aba-bb29-257b26af574b",
   "metadata": {},
   "source": [
    "#### Result says that most of the people reaction sentiment is Positive."
   ]
  },
  {
   "cell_type": "code",
   "execution_count": 57,
   "id": "aeb290fc-a803-475a-8c14-fd3cb3a0d542",
   "metadata": {
    "tags": []
   },
   "outputs": [
    {
     "data": {
      "text/plain": [
       "Category\n",
       "animals            74965\n",
       "science            71168\n",
       "healthy eating     69339\n",
       "technology         68738\n",
       "food               66676\n",
       "culture            66579\n",
       "travel             64880\n",
       "cooking            64756\n",
       "soccer             57783\n",
       "education          57436\n",
       "fitness            55323\n",
       "studying           54269\n",
       "dogs               52511\n",
       "tennis             50339\n",
       "veganism           49619\n",
       "public speaking    49264\n",
       "Name: Score, dtype: int64"
      ]
     },
     "execution_count": 57,
     "metadata": {},
     "output_type": "execute_result"
    }
   ],
   "source": [
    "# Total score categorized by Content Category\n",
    "a=content.groupby(by='Category').Score.sum()\n",
    "a.sort_values(ascending=False)"
   ]
  },
  {
   "cell_type": "code",
   "execution_count": 59,
   "id": "2d48c1a0-c964-49b2-9697-43d2bfd02114",
   "metadata": {
    "tags": []
   },
   "outputs": [
    {
     "data": {
      "image/png": "[encoded data removed]",
      "text/plain": [
       "<Figure size 640x480 with 1 Axes>"
      ]
     },
     "metadata": {},
     "output_type": "display_data"
    }
   ],
   "source": [
    "# Create bar plot to see visual form\n",
    "sns.barplot(content,x='Score',y='Category',estimator='sum')\n",
    "plt.ylabel('Content Category')\n",
    "plt.show()"
   ]
  },
  {
   "cell_type": "markdown",
   "id": "deaf4e0e-52fe-4b06-bd9b-d7c1def37e14",
   "metadata": {},
   "source": [
    "#### Result says top 3 Categories are Animals, Science, Healthy Eating."
   ]
  },
  {
   "cell_type": "code",
   "execution_count": 61,
   "id": "2a1e592d-6278-4f0b-87bf-4c979dc07f05",
   "metadata": {
    "tags": []
   },
   "outputs": [
    {
     "data": {
      "text/html": [
       "<div>\n",
       "<style scoped>\n",
       "    .dataframe tbody tr th:only-of-type {\n",
       "        vertical-align: middle;\n",
       "    }\n",
       "\n",
       "    .dataframe tbody tr th {\n",
       "        vertical-align: top;\n",
       "    }\n",
       "\n",
       "    .dataframe thead th {\n",
       "        text-align: right;\n",
       "    }\n",
       "</style>\n",
       "<table border=\"1\" class=\"dataframe\">\n",
       "  <thead>\n",
       "    <tr style=\"text-align: right;\">\n",
       "      <th></th>\n",
       "      <th>Column1</th>\n",
       "      <th>Content ID</th>\n",
       "      <th>Type</th>\n",
       "      <th>Datetime</th>\n",
       "      <th>User ID</th>\n",
       "      <th>Type4</th>\n",
       "      <th>Category</th>\n",
       "      <th>Sentiment</th>\n",
       "      <th>Score</th>\n",
       "    </tr>\n",
       "  </thead>\n",
       "  <tbody>\n",
       "    <tr>\n",
       "      <th>0</th>\n",
       "      <td>1</td>\n",
       "      <td>97522e57-d9ab-4bd6-97bf-c24d952602d2</td>\n",
       "      <td>disgust</td>\n",
       "      <td>2020-11-07 09:43:50</td>\n",
       "      <td>8d3cd87d-8a31-4935-9a4f-b319bfe05f31</td>\n",
       "      <td>photo</td>\n",
       "      <td>studying</td>\n",
       "      <td>negative</td>\n",
       "      <td>0</td>\n",
       "    </tr>\n",
       "    <tr>\n",
       "      <th>1</th>\n",
       "      <td>2</td>\n",
       "      <td>97522e57-d9ab-4bd6-97bf-c24d952602d2</td>\n",
       "      <td>dislike</td>\n",
       "      <td>2021-06-17 12:22:51</td>\n",
       "      <td>8d3cd87d-8a31-4935-9a4f-b319bfe05f31</td>\n",
       "      <td>photo</td>\n",
       "      <td>studying</td>\n",
       "      <td>negative</td>\n",
       "      <td>10</td>\n",
       "    </tr>\n",
       "    <tr>\n",
       "      <th>2</th>\n",
       "      <td>3</td>\n",
       "      <td>97522e57-d9ab-4bd6-97bf-c24d952602d2</td>\n",
       "      <td>scared</td>\n",
       "      <td>2021-04-18 05:13:58</td>\n",
       "      <td>8d3cd87d-8a31-4935-9a4f-b319bfe05f31</td>\n",
       "      <td>photo</td>\n",
       "      <td>studying</td>\n",
       "      <td>negative</td>\n",
       "      <td>15</td>\n",
       "    </tr>\n",
       "    <tr>\n",
       "      <th>3</th>\n",
       "      <td>4</td>\n",
       "      <td>97522e57-d9ab-4bd6-97bf-c24d952602d2</td>\n",
       "      <td>disgust</td>\n",
       "      <td>2021-01-06 19:13:01</td>\n",
       "      <td>8d3cd87d-8a31-4935-9a4f-b319bfe05f31</td>\n",
       "      <td>photo</td>\n",
       "      <td>studying</td>\n",
       "      <td>negative</td>\n",
       "      <td>0</td>\n",
       "    </tr>\n",
       "    <tr>\n",
       "      <th>4</th>\n",
       "      <td>5</td>\n",
       "      <td>97522e57-d9ab-4bd6-97bf-c24d952602d2</td>\n",
       "      <td>interested</td>\n",
       "      <td>2020-08-23 12:25:58</td>\n",
       "      <td>8d3cd87d-8a31-4935-9a4f-b319bfe05f31</td>\n",
       "      <td>photo</td>\n",
       "      <td>studying</td>\n",
       "      <td>positive</td>\n",
       "      <td>30</td>\n",
       "    </tr>\n",
       "  </tbody>\n",
       "</table>\n",
       "</div>"
      ],
      "text/plain": [
       "   Column1                            Content ID        Type  \\\n",
       "0        1  97522e57-d9ab-4bd6-97bf-c24d952602d2     disgust   \n",
       "1        2  97522e57-d9ab-4bd6-97bf-c24d952602d2     dislike   \n",
       "2        3  97522e57-d9ab-4bd6-97bf-c24d952602d2      scared   \n",
       "3        4  97522e57-d9ab-4bd6-97bf-c24d952602d2     disgust   \n",
       "4        5  97522e57-d9ab-4bd6-97bf-c24d952602d2  interested   \n",
       "\n",
       "             Datetime                               User ID  Type4  Category  \\\n",
       "0 2020-11-07 09:43:50  8d3cd87d-8a31-4935-9a4f-b319bfe05f31  photo  studying   \n",
       "1 2021-06-17 12:22:51  8d3cd87d-8a31-4935-9a4f-b319bfe05f31  photo  studying   \n",
       "2 2021-04-18 05:13:58  8d3cd87d-8a31-4935-9a4f-b319bfe05f31  photo  studying   \n",
       "3 2021-01-06 19:13:01  8d3cd87d-8a31-4935-9a4f-b319bfe05f31  photo  studying   \n",
       "4 2020-08-23 12:25:58  8d3cd87d-8a31-4935-9a4f-b319bfe05f31  photo  studying   \n",
       "\n",
       "  Sentiment  Score  \n",
       "0  negative      0  \n",
       "1  negative     10  \n",
       "2  negative     15  \n",
       "3  negative      0  \n",
       "4  positive     30  "
      ]
     },
     "execution_count": 61,
     "metadata": {},
     "output_type": "execute_result"
    }
   ],
   "source": [
    "# See the data again for more analysis\n",
    "content.head()"
   ]
  },
  {
   "cell_type": "code",
   "execution_count": 63,
   "id": "b9f01e8d-b5ee-4920-9967-c312e8f987f5",
   "metadata": {
    "tags": []
   },
   "outputs": [],
   "source": [
    "# Extract year from content \"Datetime\" column of the dataframe\n",
    "content['Year']=content['Datetime'].dt.year"
   ]
  },
  {
   "cell_type": "code",
   "execution_count": 65,
   "id": "267d131f-96ba-4b9d-8654-17dd13a58725",
   "metadata": {
    "tags": []
   },
   "outputs": [],
   "source": [
    "# Extract month from content dataframe\n",
    "content['Month']=content['Datetime'].dt.month"
   ]
  },
  {
   "cell_type": "code",
   "execution_count": 67,
   "id": "62f524c9-bba6-4d91-8fe1-944d16769ced",
   "metadata": {
    "tags": []
   },
   "outputs": [],
   "source": [
    "# Extract time from content dataframe\n",
    "content['Time']=content['Datetime'].dt.time"
   ]
  },
  {
   "cell_type": "code",
   "execution_count": 69,
   "id": "79e8a28a-496d-49b8-a3f0-24aa3e7e8b75",
   "metadata": {
    "tags": []
   },
   "outputs": [
    {
     "data": {
      "text/html": [
       "<div>\n",
       "<style scoped>\n",
       "    .dataframe tbody tr th:only-of-type {\n",
       "        vertical-align: middle;\n",
       "    }\n",
       "\n",
       "    .dataframe tbody tr th {\n",
       "        vertical-align: top;\n",
       "    }\n",
       "\n",
       "    .dataframe thead th {\n",
       "        text-align: right;\n",
       "    }\n",
       "</style>\n",
       "<table border=\"1\" class=\"dataframe\">\n",
       "  <thead>\n",
       "    <tr style=\"text-align: right;\">\n",
       "      <th></th>\n",
       "      <th>Column1</th>\n",
       "      <th>Content ID</th>\n",
       "      <th>Type</th>\n",
       "      <th>Datetime</th>\n",
       "      <th>User ID</th>\n",
       "      <th>Type4</th>\n",
       "      <th>Category</th>\n",
       "      <th>Sentiment</th>\n",
       "      <th>Score</th>\n",
       "      <th>Year</th>\n",
       "      <th>Month</th>\n",
       "      <th>Time</th>\n",
       "    </tr>\n",
       "  </thead>\n",
       "  <tbody>\n",
       "    <tr>\n",
       "      <th>0</th>\n",
       "      <td>1</td>\n",
       "      <td>97522e57-d9ab-4bd6-97bf-c24d952602d2</td>\n",
       "      <td>disgust</td>\n",
       "      <td>2020-11-07 09:43:50</td>\n",
       "      <td>8d3cd87d-8a31-4935-9a4f-b319bfe05f31</td>\n",
       "      <td>photo</td>\n",
       "      <td>studying</td>\n",
       "      <td>negative</td>\n",
       "      <td>0</td>\n",
       "      <td>2020</td>\n",
       "      <td>11</td>\n",
       "      <td>09:43:50</td>\n",
       "    </tr>\n",
       "    <tr>\n",
       "      <th>1</th>\n",
       "      <td>2</td>\n",
       "      <td>97522e57-d9ab-4bd6-97bf-c24d952602d2</td>\n",
       "      <td>dislike</td>\n",
       "      <td>2021-06-17 12:22:51</td>\n",
       "      <td>8d3cd87d-8a31-4935-9a4f-b319bfe05f31</td>\n",
       "      <td>photo</td>\n",
       "      <td>studying</td>\n",
       "      <td>negative</td>\n",
       "      <td>10</td>\n",
       "      <td>2021</td>\n",
       "      <td>6</td>\n",
       "      <td>12:22:51</td>\n",
       "    </tr>\n",
       "    <tr>\n",
       "      <th>2</th>\n",
       "      <td>3</td>\n",
       "      <td>97522e57-d9ab-4bd6-97bf-c24d952602d2</td>\n",
       "      <td>scared</td>\n",
       "      <td>2021-04-18 05:13:58</td>\n",
       "      <td>8d3cd87d-8a31-4935-9a4f-b319bfe05f31</td>\n",
       "      <td>photo</td>\n",
       "      <td>studying</td>\n",
       "      <td>negative</td>\n",
       "      <td>15</td>\n",
       "      <td>2021</td>\n",
       "      <td>4</td>\n",
       "      <td>05:13:58</td>\n",
       "    </tr>\n",
       "    <tr>\n",
       "      <th>3</th>\n",
       "      <td>4</td>\n",
       "      <td>97522e57-d9ab-4bd6-97bf-c24d952602d2</td>\n",
       "      <td>disgust</td>\n",
       "      <td>2021-01-06 19:13:01</td>\n",
       "      <td>8d3cd87d-8a31-4935-9a4f-b319bfe05f31</td>\n",
       "      <td>photo</td>\n",
       "      <td>studying</td>\n",
       "      <td>negative</td>\n",
       "      <td>0</td>\n",
       "      <td>2021</td>\n",
       "      <td>1</td>\n",
       "      <td>19:13:01</td>\n",
       "    </tr>\n",
       "    <tr>\n",
       "      <th>4</th>\n",
       "      <td>5</td>\n",
       "      <td>97522e57-d9ab-4bd6-97bf-c24d952602d2</td>\n",
       "      <td>interested</td>\n",
       "      <td>2020-08-23 12:25:58</td>\n",
       "      <td>8d3cd87d-8a31-4935-9a4f-b319bfe05f31</td>\n",
       "      <td>photo</td>\n",
       "      <td>studying</td>\n",
       "      <td>positive</td>\n",
       "      <td>30</td>\n",
       "      <td>2020</td>\n",
       "      <td>8</td>\n",
       "      <td>12:25:58</td>\n",
       "    </tr>\n",
       "  </tbody>\n",
       "</table>\n",
       "</div>"
      ],
      "text/plain": [
       "   Column1                            Content ID        Type  \\\n",
       "0        1  97522e57-d9ab-4bd6-97bf-c24d952602d2     disgust   \n",
       "1        2  97522e57-d9ab-4bd6-97bf-c24d952602d2     dislike   \n",
       "2        3  97522e57-d9ab-4bd6-97bf-c24d952602d2      scared   \n",
       "3        4  97522e57-d9ab-4bd6-97bf-c24d952602d2     disgust   \n",
       "4        5  97522e57-d9ab-4bd6-97bf-c24d952602d2  interested   \n",
       "\n",
       "             Datetime                               User ID  Type4  Category  \\\n",
       "0 2020-11-07 09:43:50  8d3cd87d-8a31-4935-9a4f-b319bfe05f31  photo  studying   \n",
       "1 2021-06-17 12:22:51  8d3cd87d-8a31-4935-9a4f-b319bfe05f31  photo  studying   \n",
       "2 2021-04-18 05:13:58  8d3cd87d-8a31-4935-9a4f-b319bfe05f31  photo  studying   \n",
       "3 2021-01-06 19:13:01  8d3cd87d-8a31-4935-9a4f-b319bfe05f31  photo  studying   \n",
       "4 2020-08-23 12:25:58  8d3cd87d-8a31-4935-9a4f-b319bfe05f31  photo  studying   \n",
       "\n",
       "  Sentiment  Score  Year  Month      Time  \n",
       "0  negative      0  2020     11  09:43:50  \n",
       "1  negative     10  2021      6  12:22:51  \n",
       "2  negative     15  2021      4  05:13:58  \n",
       "3  negative      0  2021      1  19:13:01  \n",
       "4  positive     30  2020      8  12:25:58  "
      ]
     },
     "execution_count": 69,
     "metadata": {},
     "output_type": "execute_result"
    }
   ],
   "source": [
    "# See the dataframe with new extracted columns\n",
    "content.head()"
   ]
  },
  {
   "cell_type": "code",
   "execution_count": 71,
   "id": "ab052b03-5f43-4734-b92a-f7d343bcff71",
   "metadata": {
    "tags": []
   },
   "outputs": [
    {
     "name": "stdout",
     "output_type": "stream",
     "text": [
      "2020:  13280\n",
      "2021:  11293\n"
     ]
    }
   ],
   "source": [
    "# Total no. of Reactions by Year\n",
    "print('2020: ',content[content.Year==2020].value_counts().sum())\n",
    "print('2021: ',content[content.Year==2021].value_counts().sum())"
   ]
  },
  {
   "cell_type": "code",
   "execution_count": 73,
   "id": "8b43795b-a0d9-4072-876c-3b0b9064ec25",
   "metadata": {
    "tags": []
   },
   "outputs": [
    {
     "data": {
      "text/plain": [
       "Year\n",
       "2020    526429\n",
       "2021    447216\n",
       "Name: Score, dtype: int64"
      ]
     },
     "execution_count": 73,
     "metadata": {},
     "output_type": "execute_result"
    }
   ],
   "source": [
    "# Total Score categorized by Year\n",
    "content.groupby(by='Year').Score.sum()"
   ]
  },
  {
   "cell_type": "markdown",
   "id": "02b8e95e-56c1-43be-ac41-955737952310",
   "metadata": {},
   "source": [
    "#### Here we found, 2020 score is more than 2021 score. Let's check using sentiments"
   ]
  },
  {
   "cell_type": "code",
   "execution_count": 75,
   "id": "cd22a5b9-720d-4661-94f7-6f077c5543b4",
   "metadata": {
    "tags": []
   },
   "outputs": [
    {
     "data": {
      "text/html": [
       "<div>\n",
       "<style scoped>\n",
       "    .dataframe tbody tr th:only-of-type {\n",
       "        vertical-align: middle;\n",
       "    }\n",
       "\n",
       "    .dataframe tbody tr th {\n",
       "        vertical-align: top;\n",
       "    }\n",
       "\n",
       "    .dataframe thead th {\n",
       "        text-align: right;\n",
       "    }\n",
       "</style>\n",
       "<table border=\"1\" class=\"dataframe\">\n",
       "  <thead>\n",
       "    <tr style=\"text-align: right;\">\n",
       "      <th></th>\n",
       "      <th></th>\n",
       "      <th>Score</th>\n",
       "    </tr>\n",
       "    <tr>\n",
       "      <th>Year</th>\n",
       "      <th>Sentiment</th>\n",
       "      <th></th>\n",
       "    </tr>\n",
       "  </thead>\n",
       "  <tbody>\n",
       "    <tr>\n",
       "      <th rowspan=\"3\" valign=\"top\">2020</th>\n",
       "      <th>negative</th>\n",
       "      <td>34894</td>\n",
       "    </tr>\n",
       "    <tr>\n",
       "      <th>neutral</th>\n",
       "      <td>45990</td>\n",
       "    </tr>\n",
       "    <tr>\n",
       "      <th>positive</th>\n",
       "      <td>445545</td>\n",
       "    </tr>\n",
       "    <tr>\n",
       "      <th rowspan=\"3\" valign=\"top\">2021</th>\n",
       "      <th>negative</th>\n",
       "      <td>29890</td>\n",
       "    </tr>\n",
       "    <tr>\n",
       "      <th>neutral</th>\n",
       "      <td>38815</td>\n",
       "    </tr>\n",
       "    <tr>\n",
       "      <th>positive</th>\n",
       "      <td>378511</td>\n",
       "    </tr>\n",
       "  </tbody>\n",
       "</table>\n",
       "</div>"
      ],
      "text/plain": [
       "                 Score\n",
       "Year Sentiment        \n",
       "2020 negative    34894\n",
       "     neutral     45990\n",
       "     positive   445545\n",
       "2021 negative    29890\n",
       "     neutral     38815\n",
       "     positive   378511"
      ]
     },
     "execution_count": 75,
     "metadata": {},
     "output_type": "execute_result"
    }
   ],
   "source": [
    "# Total score categorized by Year and Sentiments\n",
    "content.pivot_table(index=['Year','Sentiment'],values='Score',aggfunc='sum')"
   ]
  },
  {
   "cell_type": "markdown",
   "id": "e5217adc-16f9-4c28-aee2-b733ec437988",
   "metadata": {},
   "source": [
    "#### Here we found in 2021 score is low in all Sentiments in comparison with 2020."
   ]
  },
  {
   "cell_type": "code",
   "execution_count": 77,
   "id": "87e088af-a2b4-4ea3-8d9c-f29448f82996",
   "metadata": {
    "tags": []
   },
   "outputs": [
    {
     "name": "stdout",
     "output_type": "stream",
     "text": [
      "No. of Reactions:  [2138 2126 2114 2092 2070 2056 2034 2022 2021 2012 1974 1914]\n",
      "Months:  Index([5, 1, 8, 12, 7, 10, 11, 9, 6, 3, 4, 2], dtype='int32', name='Month')\n"
     ]
    }
   ],
   "source": [
    "# Check no. or Reactions by Months\n",
    "print('No. of Reactions: ',content['Month'].value_counts().values)\n",
    "print('Months: ',content['Month'].value_counts().index)\n",
    "# result shows that May (5) has maximum no. of reactions follwed by Jan (1)."
   ]
  },
  {
   "cell_type": "code",
   "execution_count": 79,
   "id": "ee2be2d6-6a3e-4d21-98c3-2cccacc3b99e",
   "metadata": {
    "tags": []
   },
   "outputs": [
    {
     "data": {
      "text/html": [
       "<div>\n",
       "<style scoped>\n",
       "    .dataframe tbody tr th:only-of-type {\n",
       "        vertical-align: middle;\n",
       "    }\n",
       "\n",
       "    .dataframe tbody tr th {\n",
       "        vertical-align: top;\n",
       "    }\n",
       "\n",
       "    .dataframe thead th {\n",
       "        text-align: right;\n",
       "    }\n",
       "</style>\n",
       "<table border=\"1\" class=\"dataframe\">\n",
       "  <thead>\n",
       "    <tr style=\"text-align: right;\">\n",
       "      <th></th>\n",
       "      <th></th>\n",
       "      <th>Score</th>\n",
       "    </tr>\n",
       "    <tr>\n",
       "      <th>Year</th>\n",
       "      <th>Month</th>\n",
       "      <th></th>\n",
       "    </tr>\n",
       "  </thead>\n",
       "  <tbody>\n",
       "    <tr>\n",
       "      <th rowspan=\"7\" valign=\"top\">2020</th>\n",
       "      <th>6</th>\n",
       "      <td>35406</td>\n",
       "    </tr>\n",
       "    <tr>\n",
       "      <th>7</th>\n",
       "      <td>82464</td>\n",
       "    </tr>\n",
       "    <tr>\n",
       "      <th>8</th>\n",
       "      <td>82176</td>\n",
       "    </tr>\n",
       "    <tr>\n",
       "      <th>9</th>\n",
       "      <td>80077</td>\n",
       "    </tr>\n",
       "    <tr>\n",
       "      <th>10</th>\n",
       "      <td>82810</td>\n",
       "    </tr>\n",
       "    <tr>\n",
       "      <th>11</th>\n",
       "      <td>82333</td>\n",
       "    </tr>\n",
       "    <tr>\n",
       "      <th>12</th>\n",
       "      <td>81163</td>\n",
       "    </tr>\n",
       "    <tr>\n",
       "      <th rowspan=\"6\" valign=\"top\">2021</th>\n",
       "      <th>1</th>\n",
       "      <td>82938</td>\n",
       "    </tr>\n",
       "    <tr>\n",
       "      <th>2</th>\n",
       "      <td>75509</td>\n",
       "    </tr>\n",
       "    <tr>\n",
       "      <th>3</th>\n",
       "      <td>78915</td>\n",
       "    </tr>\n",
       "    <tr>\n",
       "      <th>4</th>\n",
       "      <td>78598</td>\n",
       "    </tr>\n",
       "    <tr>\n",
       "      <th>5</th>\n",
       "      <td>86293</td>\n",
       "    </tr>\n",
       "    <tr>\n",
       "      <th>6</th>\n",
       "      <td>44963</td>\n",
       "    </tr>\n",
       "  </tbody>\n",
       "</table>\n",
       "</div>"
      ],
      "text/plain": [
       "            Score\n",
       "Year Month       \n",
       "2020 6      35406\n",
       "     7      82464\n",
       "     8      82176\n",
       "     9      80077\n",
       "     10     82810\n",
       "     11     82333\n",
       "     12     81163\n",
       "2021 1      82938\n",
       "     2      75509\n",
       "     3      78915\n",
       "     4      78598\n",
       "     5      86293\n",
       "     6      44963"
      ]
     },
     "execution_count": 79,
     "metadata": {},
     "output_type": "execute_result"
    }
   ],
   "source": [
    "# Total score categorized by Year & Month\n",
    "content.pivot_table(index=['Year','Month'],values='Score',aggfunc='sum')"
   ]
  },
  {
   "cell_type": "markdown",
   "id": "914744b9-356d-43db-bb9f-45a8e4b7928e",
   "metadata": {},
   "source": [
    "#### Result says that top scorer Months are May (5) 2021 and Jan (1) in 2021, June in 2021 & 2020 is the least scorer."
   ]
  },
  {
   "cell_type": "code",
   "execution_count": 81,
   "id": "18a183a7-9c3e-4316-a8f7-34eb7f368626",
   "metadata": {
    "tags": []
   },
   "outputs": [
    {
     "data": {
      "text/html": [
       "<div>\n",
       "<style scoped>\n",
       "    .dataframe tbody tr th:only-of-type {\n",
       "        vertical-align: middle;\n",
       "    }\n",
       "\n",
       "    .dataframe tbody tr th {\n",
       "        vertical-align: top;\n",
       "    }\n",
       "\n",
       "    .dataframe thead th {\n",
       "        text-align: right;\n",
       "    }\n",
       "</style>\n",
       "<table border=\"1\" class=\"dataframe\">\n",
       "  <thead>\n",
       "    <tr style=\"text-align: right;\">\n",
       "      <th></th>\n",
       "      <th></th>\n",
       "      <th>Score</th>\n",
       "    </tr>\n",
       "    <tr>\n",
       "      <th>Year</th>\n",
       "      <th>Type4</th>\n",
       "      <th></th>\n",
       "    </tr>\n",
       "  </thead>\n",
       "  <tbody>\n",
       "    <tr>\n",
       "      <th rowspan=\"4\" valign=\"top\">2020</th>\n",
       "      <th>GIF</th>\n",
       "      <td>126928</td>\n",
       "    </tr>\n",
       "    <tr>\n",
       "      <th>audio</th>\n",
       "      <td>121161</td>\n",
       "    </tr>\n",
       "    <tr>\n",
       "      <th>photo</th>\n",
       "      <td>142790</td>\n",
       "    </tr>\n",
       "    <tr>\n",
       "      <th>video</th>\n",
       "      <td>135550</td>\n",
       "    </tr>\n",
       "    <tr>\n",
       "      <th rowspan=\"4\" valign=\"top\">2021</th>\n",
       "      <th>GIF</th>\n",
       "      <td>111289</td>\n",
       "    </tr>\n",
       "    <tr>\n",
       "      <th>audio</th>\n",
       "      <td>104966</td>\n",
       "    </tr>\n",
       "    <tr>\n",
       "      <th>photo</th>\n",
       "      <td>120048</td>\n",
       "    </tr>\n",
       "    <tr>\n",
       "      <th>video</th>\n",
       "      <td>110913</td>\n",
       "    </tr>\n",
       "  </tbody>\n",
       "</table>\n",
       "</div>"
      ],
      "text/plain": [
       "             Score\n",
       "Year Type4        \n",
       "2020 GIF    126928\n",
       "     audio  121161\n",
       "     photo  142790\n",
       "     video  135550\n",
       "2021 GIF    111289\n",
       "     audio  104966\n",
       "     photo  120048\n",
       "     video  110913"
      ]
     },
     "execution_count": 81,
     "metadata": {},
     "output_type": "execute_result"
    }
   ],
   "source": [
    "# Total score categorized by Year and Content Type\n",
    "content.pivot_table(index=['Year','Type4'],values='Score',aggfunc='sum')"
   ]
  },
  {
   "cell_type": "code",
   "execution_count": 83,
   "id": "eb7cbba4-b9f0-42a3-be70-d90af01ced93",
   "metadata": {
    "tags": []
   },
   "outputs": [
    {
     "data": {
      "text/html": [
       "<div>\n",
       "<style scoped>\n",
       "    .dataframe tbody tr th:only-of-type {\n",
       "        vertical-align: middle;\n",
       "    }\n",
       "\n",
       "    .dataframe tbody tr th {\n",
       "        vertical-align: top;\n",
       "    }\n",
       "\n",
       "    .dataframe thead th {\n",
       "        text-align: right;\n",
       "    }\n",
       "</style>\n",
       "<table border=\"1\" class=\"dataframe\">\n",
       "  <thead>\n",
       "    <tr style=\"text-align: right;\">\n",
       "      <th></th>\n",
       "      <th></th>\n",
       "      <th></th>\n",
       "      <th>Score</th>\n",
       "    </tr>\n",
       "    <tr>\n",
       "      <th>Year</th>\n",
       "      <th>Month</th>\n",
       "      <th>Type4</th>\n",
       "      <th></th>\n",
       "    </tr>\n",
       "  </thead>\n",
       "  <tbody>\n",
       "    <tr>\n",
       "      <th rowspan=\"28\" valign=\"top\">2020</th>\n",
       "      <th rowspan=\"4\" valign=\"top\">6</th>\n",
       "      <th>GIF</th>\n",
       "      <td>9083</td>\n",
       "    </tr>\n",
       "    <tr>\n",
       "      <th>audio</th>\n",
       "      <td>7923</td>\n",
       "    </tr>\n",
       "    <tr>\n",
       "      <th>photo</th>\n",
       "      <td>9816</td>\n",
       "    </tr>\n",
       "    <tr>\n",
       "      <th>video</th>\n",
       "      <td>8584</td>\n",
       "    </tr>\n",
       "    <tr>\n",
       "      <th rowspan=\"4\" valign=\"top\">7</th>\n",
       "      <th>GIF</th>\n",
       "      <td>19810</td>\n",
       "    </tr>\n",
       "    <tr>\n",
       "      <th>audio</th>\n",
       "      <td>19089</td>\n",
       "    </tr>\n",
       "    <tr>\n",
       "      <th>photo</th>\n",
       "      <td>23239</td>\n",
       "    </tr>\n",
       "    <tr>\n",
       "      <th>video</th>\n",
       "      <td>20326</td>\n",
       "    </tr>\n",
       "    <tr>\n",
       "      <th rowspan=\"4\" valign=\"top\">8</th>\n",
       "      <th>GIF</th>\n",
       "      <td>18602</td>\n",
       "    </tr>\n",
       "    <tr>\n",
       "      <th>audio</th>\n",
       "      <td>19579</td>\n",
       "    </tr>\n",
       "    <tr>\n",
       "      <th>photo</th>\n",
       "      <td>21378</td>\n",
       "    </tr>\n",
       "    <tr>\n",
       "      <th>video</th>\n",
       "      <td>22617</td>\n",
       "    </tr>\n",
       "    <tr>\n",
       "      <th rowspan=\"4\" valign=\"top\">9</th>\n",
       "      <th>GIF</th>\n",
       "      <td>18989</td>\n",
       "    </tr>\n",
       "    <tr>\n",
       "      <th>audio</th>\n",
       "      <td>17627</td>\n",
       "    </tr>\n",
       "    <tr>\n",
       "      <th>photo</th>\n",
       "      <td>21594</td>\n",
       "    </tr>\n",
       "    <tr>\n",
       "      <th>video</th>\n",
       "      <td>21867</td>\n",
       "    </tr>\n",
       "    <tr>\n",
       "      <th rowspan=\"4\" valign=\"top\">10</th>\n",
       "      <th>GIF</th>\n",
       "      <td>21428</td>\n",
       "    </tr>\n",
       "    <tr>\n",
       "      <th>audio</th>\n",
       "      <td>18904</td>\n",
       "    </tr>\n",
       "    <tr>\n",
       "      <th>photo</th>\n",
       "      <td>21333</td>\n",
       "    </tr>\n",
       "    <tr>\n",
       "      <th>video</th>\n",
       "      <td>21145</td>\n",
       "    </tr>\n",
       "    <tr>\n",
       "      <th rowspan=\"4\" valign=\"top\">11</th>\n",
       "      <th>GIF</th>\n",
       "      <td>20284</td>\n",
       "    </tr>\n",
       "    <tr>\n",
       "      <th>audio</th>\n",
       "      <td>19601</td>\n",
       "    </tr>\n",
       "    <tr>\n",
       "      <th>photo</th>\n",
       "      <td>22165</td>\n",
       "    </tr>\n",
       "    <tr>\n",
       "      <th>video</th>\n",
       "      <td>20283</td>\n",
       "    </tr>\n",
       "    <tr>\n",
       "      <th rowspan=\"4\" valign=\"top\">12</th>\n",
       "      <th>GIF</th>\n",
       "      <td>18732</td>\n",
       "    </tr>\n",
       "    <tr>\n",
       "      <th>audio</th>\n",
       "      <td>18438</td>\n",
       "    </tr>\n",
       "    <tr>\n",
       "      <th>photo</th>\n",
       "      <td>23265</td>\n",
       "    </tr>\n",
       "    <tr>\n",
       "      <th>video</th>\n",
       "      <td>20728</td>\n",
       "    </tr>\n",
       "    <tr>\n",
       "      <th rowspan=\"24\" valign=\"top\">2021</th>\n",
       "      <th rowspan=\"4\" valign=\"top\">1</th>\n",
       "      <th>GIF</th>\n",
       "      <td>20186</td>\n",
       "    </tr>\n",
       "    <tr>\n",
       "      <th>audio</th>\n",
       "      <td>20310</td>\n",
       "    </tr>\n",
       "    <tr>\n",
       "      <th>photo</th>\n",
       "      <td>22193</td>\n",
       "    </tr>\n",
       "    <tr>\n",
       "      <th>video</th>\n",
       "      <td>20249</td>\n",
       "    </tr>\n",
       "    <tr>\n",
       "      <th rowspan=\"4\" valign=\"top\">2</th>\n",
       "      <th>GIF</th>\n",
       "      <td>18555</td>\n",
       "    </tr>\n",
       "    <tr>\n",
       "      <th>audio</th>\n",
       "      <td>17614</td>\n",
       "    </tr>\n",
       "    <tr>\n",
       "      <th>photo</th>\n",
       "      <td>20028</td>\n",
       "    </tr>\n",
       "    <tr>\n",
       "      <th>video</th>\n",
       "      <td>19312</td>\n",
       "    </tr>\n",
       "    <tr>\n",
       "      <th rowspan=\"4\" valign=\"top\">3</th>\n",
       "      <th>GIF</th>\n",
       "      <td>19872</td>\n",
       "    </tr>\n",
       "    <tr>\n",
       "      <th>audio</th>\n",
       "      <td>18621</td>\n",
       "    </tr>\n",
       "    <tr>\n",
       "      <th>photo</th>\n",
       "      <td>20660</td>\n",
       "    </tr>\n",
       "    <tr>\n",
       "      <th>video</th>\n",
       "      <td>19762</td>\n",
       "    </tr>\n",
       "    <tr>\n",
       "      <th rowspan=\"4\" valign=\"top\">4</th>\n",
       "      <th>GIF</th>\n",
       "      <td>19289</td>\n",
       "    </tr>\n",
       "    <tr>\n",
       "      <th>audio</th>\n",
       "      <td>17978</td>\n",
       "    </tr>\n",
       "    <tr>\n",
       "      <th>photo</th>\n",
       "      <td>22856</td>\n",
       "    </tr>\n",
       "    <tr>\n",
       "      <th>video</th>\n",
       "      <td>18475</td>\n",
       "    </tr>\n",
       "    <tr>\n",
       "      <th rowspan=\"4\" valign=\"top\">5</th>\n",
       "      <th>GIF</th>\n",
       "      <td>22207</td>\n",
       "    </tr>\n",
       "    <tr>\n",
       "      <th>audio</th>\n",
       "      <td>20202</td>\n",
       "    </tr>\n",
       "    <tr>\n",
       "      <th>photo</th>\n",
       "      <td>22050</td>\n",
       "    </tr>\n",
       "    <tr>\n",
       "      <th>video</th>\n",
       "      <td>21834</td>\n",
       "    </tr>\n",
       "    <tr>\n",
       "      <th rowspan=\"4\" valign=\"top\">6</th>\n",
       "      <th>GIF</th>\n",
       "      <td>11180</td>\n",
       "    </tr>\n",
       "    <tr>\n",
       "      <th>audio</th>\n",
       "      <td>10241</td>\n",
       "    </tr>\n",
       "    <tr>\n",
       "      <th>photo</th>\n",
       "      <td>12261</td>\n",
       "    </tr>\n",
       "    <tr>\n",
       "      <th>video</th>\n",
       "      <td>11281</td>\n",
       "    </tr>\n",
       "  </tbody>\n",
       "</table>\n",
       "</div>"
      ],
      "text/plain": [
       "                  Score\n",
       "Year Month Type4       \n",
       "2020 6     GIF     9083\n",
       "           audio   7923\n",
       "           photo   9816\n",
       "           video   8584\n",
       "     7     GIF    19810\n",
       "           audio  19089\n",
       "           photo  23239\n",
       "           video  20326\n",
       "     8     GIF    18602\n",
       "           audio  19579\n",
       "           photo  21378\n",
       "           video  22617\n",
       "     9     GIF    18989\n",
       "           audio  17627\n",
       "           photo  21594\n",
       "           video  21867\n",
       "     10    GIF    21428\n",
       "           audio  18904\n",
       "           photo  21333\n",
       "           video  21145\n",
       "     11    GIF    20284\n",
       "           audio  19601\n",
       "           photo  22165\n",
       "           video  20283\n",
       "     12    GIF    18732\n",
       "           audio  18438\n",
       "           photo  23265\n",
       "           video  20728\n",
       "2021 1     GIF    20186\n",
       "           audio  20310\n",
       "           photo  22193\n",
       "           video  20249\n",
       "     2     GIF    18555\n",
       "           audio  17614\n",
       "           photo  20028\n",
       "           video  19312\n",
       "     3     GIF    19872\n",
       "           audio  18621\n",
       "           photo  20660\n",
       "           video  19762\n",
       "     4     GIF    19289\n",
       "           audio  17978\n",
       "           photo  22856\n",
       "           video  18475\n",
       "     5     GIF    22207\n",
       "           audio  20202\n",
       "           photo  22050\n",
       "           video  21834\n",
       "     6     GIF    11180\n",
       "           audio  10241\n",
       "           photo  12261\n",
       "           video  11281"
      ]
     },
     "execution_count": 83,
     "metadata": {},
     "output_type": "execute_result"
    }
   ],
   "source": [
    "# Total score categorized by Year, Month & Content Type\n",
    "content.pivot_table(index=['Year','Month','Type4'],values='Score',aggfunc='sum')"
   ]
  },
  {
   "cell_type": "markdown",
   "id": "838f6ffa-eccd-4bdb-bfe6-32a98d342a22",
   "metadata": {},
   "source": [
    "#### Here we found Photo score is Maximum in most of the Months except Aug, Sep in 2020 (in these months Video score is Maximum) and May in 2021 (in this month Gif score is Maximum)."
   ]
  },
  {
   "cell_type": "code",
   "execution_count": 85,
   "id": "7f99bfac-10bf-4dcf-b07a-8e69f2d1ec56",
   "metadata": {
    "tags": []
   },
   "outputs": [
    {
     "data": {
      "text/html": [
       "<div>\n",
       "<style scoped>\n",
       "    .dataframe tbody tr th:only-of-type {\n",
       "        vertical-align: middle;\n",
       "    }\n",
       "\n",
       "    .dataframe tbody tr th {\n",
       "        vertical-align: top;\n",
       "    }\n",
       "\n",
       "    .dataframe thead th {\n",
       "        text-align: right;\n",
       "    }\n",
       "</style>\n",
       "<table border=\"1\" class=\"dataframe\">\n",
       "  <thead>\n",
       "    <tr style=\"text-align: right;\">\n",
       "      <th></th>\n",
       "      <th></th>\n",
       "      <th>Score</th>\n",
       "    </tr>\n",
       "    <tr>\n",
       "      <th>Year</th>\n",
       "      <th>Sentiment</th>\n",
       "      <th></th>\n",
       "    </tr>\n",
       "  </thead>\n",
       "  <tbody>\n",
       "    <tr>\n",
       "      <th rowspan=\"3\" valign=\"top\">2020</th>\n",
       "      <th>negative</th>\n",
       "      <td>34894</td>\n",
       "    </tr>\n",
       "    <tr>\n",
       "      <th>neutral</th>\n",
       "      <td>45990</td>\n",
       "    </tr>\n",
       "    <tr>\n",
       "      <th>positive</th>\n",
       "      <td>445545</td>\n",
       "    </tr>\n",
       "    <tr>\n",
       "      <th rowspan=\"3\" valign=\"top\">2021</th>\n",
       "      <th>negative</th>\n",
       "      <td>29890</td>\n",
       "    </tr>\n",
       "    <tr>\n",
       "      <th>neutral</th>\n",
       "      <td>38815</td>\n",
       "    </tr>\n",
       "    <tr>\n",
       "      <th>positive</th>\n",
       "      <td>378511</td>\n",
       "    </tr>\n",
       "  </tbody>\n",
       "</table>\n",
       "</div>"
      ],
      "text/plain": [
       "                 Score\n",
       "Year Sentiment        \n",
       "2020 negative    34894\n",
       "     neutral     45990\n",
       "     positive   445545\n",
       "2021 negative    29890\n",
       "     neutral     38815\n",
       "     positive   378511"
      ]
     },
     "execution_count": 85,
     "metadata": {},
     "output_type": "execute_result"
    }
   ],
   "source": [
    "# Total score categorized by Year, Sentiment\n",
    "content.pivot_table(index=['Year','Sentiment'],values='Score',aggfunc='sum')"
   ]
  },
  {
   "cell_type": "code",
   "execution_count": 87,
   "id": "6fa792a6-4c59-4973-bf92-79fb587470a8",
   "metadata": {
    "tags": []
   },
   "outputs": [
    {
     "data": {
      "text/html": [
       "<div>\n",
       "<style scoped>\n",
       "    .dataframe tbody tr th:only-of-type {\n",
       "        vertical-align: middle;\n",
       "    }\n",
       "\n",
       "    .dataframe tbody tr th {\n",
       "        vertical-align: top;\n",
       "    }\n",
       "\n",
       "    .dataframe thead th {\n",
       "        text-align: right;\n",
       "    }\n",
       "</style>\n",
       "<table border=\"1\" class=\"dataframe\">\n",
       "  <thead>\n",
       "    <tr style=\"text-align: right;\">\n",
       "      <th></th>\n",
       "      <th></th>\n",
       "      <th></th>\n",
       "      <th>Score</th>\n",
       "    </tr>\n",
       "    <tr>\n",
       "      <th>Year</th>\n",
       "      <th>Sentiment</th>\n",
       "      <th>Type</th>\n",
       "      <th></th>\n",
       "    </tr>\n",
       "  </thead>\n",
       "  <tbody>\n",
       "    <tr>\n",
       "      <th rowspan=\"16\" valign=\"top\">2020</th>\n",
       "      <th rowspan=\"5\" valign=\"top\">negative</th>\n",
       "      <th>disgust</th>\n",
       "      <td>0</td>\n",
       "    </tr>\n",
       "    <tr>\n",
       "      <th>dislike</th>\n",
       "      <td>8340</td>\n",
       "    </tr>\n",
       "    <tr>\n",
       "      <th>hate</th>\n",
       "      <td>4195</td>\n",
       "    </tr>\n",
       "    <tr>\n",
       "      <th>scared</th>\n",
       "      <td>12735</td>\n",
       "    </tr>\n",
       "    <tr>\n",
       "      <th>worried</th>\n",
       "      <td>9624</td>\n",
       "    </tr>\n",
       "    <tr>\n",
       "      <th rowspan=\"2\" valign=\"top\">neutral</th>\n",
       "      <th>indifferent</th>\n",
       "      <td>16660</td>\n",
       "    </tr>\n",
       "    <tr>\n",
       "      <th>peeking</th>\n",
       "      <td>29330</td>\n",
       "    </tr>\n",
       "    <tr>\n",
       "      <th rowspan=\"9\" valign=\"top\">positive</th>\n",
       "      <th>adore</th>\n",
       "      <td>61560</td>\n",
       "    </tr>\n",
       "    <tr>\n",
       "      <th>cherish</th>\n",
       "      <td>56700</td>\n",
       "    </tr>\n",
       "    <tr>\n",
       "      <th>heart</th>\n",
       "      <td>51540</td>\n",
       "    </tr>\n",
       "    <tr>\n",
       "      <th>interested</th>\n",
       "      <td>24690</td>\n",
       "    </tr>\n",
       "    <tr>\n",
       "      <th>intrigued</th>\n",
       "      <td>35010</td>\n",
       "    </tr>\n",
       "    <tr>\n",
       "      <th>like</th>\n",
       "      <td>41050</td>\n",
       "    </tr>\n",
       "    <tr>\n",
       "      <th>love</th>\n",
       "      <td>55250</td>\n",
       "    </tr>\n",
       "    <tr>\n",
       "      <th>super love</th>\n",
       "      <td>62625</td>\n",
       "    </tr>\n",
       "    <tr>\n",
       "      <th>want</th>\n",
       "      <td>57120</td>\n",
       "    </tr>\n",
       "    <tr>\n",
       "      <th rowspan=\"16\" valign=\"top\">2021</th>\n",
       "      <th rowspan=\"5\" valign=\"top\">negative</th>\n",
       "      <th>disgust</th>\n",
       "      <td>0</td>\n",
       "    </tr>\n",
       "    <tr>\n",
       "      <th>dislike</th>\n",
       "      <td>7140</td>\n",
       "    </tr>\n",
       "    <tr>\n",
       "      <th>hate</th>\n",
       "      <td>3565</td>\n",
       "    </tr>\n",
       "    <tr>\n",
       "      <th>scared</th>\n",
       "      <td>10845</td>\n",
       "    </tr>\n",
       "    <tr>\n",
       "      <th>worried</th>\n",
       "      <td>8340</td>\n",
       "    </tr>\n",
       "    <tr>\n",
       "      <th rowspan=\"2\" valign=\"top\">neutral</th>\n",
       "      <th>indifferent</th>\n",
       "      <td>13580</td>\n",
       "    </tr>\n",
       "    <tr>\n",
       "      <th>peeking</th>\n",
       "      <td>25235</td>\n",
       "    </tr>\n",
       "    <tr>\n",
       "      <th rowspan=\"9\" valign=\"top\">positive</th>\n",
       "      <th>adore</th>\n",
       "      <td>49896</td>\n",
       "    </tr>\n",
       "    <tr>\n",
       "      <th>cherish</th>\n",
       "      <td>48370</td>\n",
       "    </tr>\n",
       "    <tr>\n",
       "      <th>heart</th>\n",
       "      <td>45780</td>\n",
       "    </tr>\n",
       "    <tr>\n",
       "      <th>interested</th>\n",
       "      <td>21780</td>\n",
       "    </tr>\n",
       "    <tr>\n",
       "      <th>intrigued</th>\n",
       "      <td>31365</td>\n",
       "    </tr>\n",
       "    <tr>\n",
       "      <th>like</th>\n",
       "      <td>34950</td>\n",
       "    </tr>\n",
       "    <tr>\n",
       "      <th>love</th>\n",
       "      <td>44460</td>\n",
       "    </tr>\n",
       "    <tr>\n",
       "      <th>super love</th>\n",
       "      <td>51300</td>\n",
       "    </tr>\n",
       "    <tr>\n",
       "      <th>want</th>\n",
       "      <td>50610</td>\n",
       "    </tr>\n",
       "  </tbody>\n",
       "</table>\n",
       "</div>"
      ],
      "text/plain": [
       "                            Score\n",
       "Year Sentiment Type              \n",
       "2020 negative  disgust          0\n",
       "               dislike       8340\n",
       "               hate          4195\n",
       "               scared       12735\n",
       "               worried       9624\n",
       "     neutral   indifferent  16660\n",
       "               peeking      29330\n",
       "     positive  adore        61560\n",
       "               cherish      56700\n",
       "               heart        51540\n",
       "               interested   24690\n",
       "               intrigued    35010\n",
       "               like         41050\n",
       "               love         55250\n",
       "               super love   62625\n",
       "               want         57120\n",
       "2021 negative  disgust          0\n",
       "               dislike       7140\n",
       "               hate          3565\n",
       "               scared       10845\n",
       "               worried       8340\n",
       "     neutral   indifferent  13580\n",
       "               peeking      25235\n",
       "     positive  adore        49896\n",
       "               cherish      48370\n",
       "               heart        45780\n",
       "               interested   21780\n",
       "               intrigued    31365\n",
       "               like         34950\n",
       "               love         44460\n",
       "               super love   51300\n",
       "               want         50610"
      ]
     },
     "execution_count": 87,
     "metadata": {},
     "output_type": "execute_result"
    }
   ],
   "source": [
    "# Total score categorized by Year, Sentiment and Reaction Type\n",
    "content.pivot_table(index=['Year','Sentiment','Type'],values='Score',aggfunc='sum')"
   ]
  },
  {
   "cell_type": "markdown",
   "id": "23335a02-ec9b-4fa8-b8e9-f3badec6ee11",
   "metadata": {},
   "source": [
    "#### Result says that in both years Scared score is Maximum in Negative sentiment, Peeking score is Maximum in Neutral sentiment & Super love score is Maximum in Positive sentiment."
   ]
  },
  {
   "cell_type": "code",
   "execution_count": 89,
   "id": "8efdf75b-5da5-427d-b441-712ed47344be",
   "metadata": {
    "tags": []
   },
   "outputs": [],
   "source": [
    "# Set total no. of visible rows \n",
    "pd.set_option('display.max_rows',200)"
   ]
  },
  {
   "cell_type": "code",
   "execution_count": 91,
   "id": "c60dfaf1-3873-4b42-bcb7-fbd2344160d3",
   "metadata": {
    "tags": []
   },
   "outputs": [
    {
     "data": {
      "text/html": [
       "<div>\n",
       "<style scoped>\n",
       "    .dataframe tbody tr th:only-of-type {\n",
       "        vertical-align: middle;\n",
       "    }\n",
       "\n",
       "    .dataframe tbody tr th {\n",
       "        vertical-align: top;\n",
       "    }\n",
       "\n",
       "    .dataframe thead th {\n",
       "        text-align: right;\n",
       "    }\n",
       "</style>\n",
       "<table border=\"1\" class=\"dataframe\">\n",
       "  <thead>\n",
       "    <tr style=\"text-align: right;\">\n",
       "      <th></th>\n",
       "      <th></th>\n",
       "      <th></th>\n",
       "      <th>Score</th>\n",
       "    </tr>\n",
       "    <tr>\n",
       "      <th>Year</th>\n",
       "      <th>Sentiment</th>\n",
       "      <th>Category</th>\n",
       "      <th></th>\n",
       "    </tr>\n",
       "  </thead>\n",
       "  <tbody>\n",
       "    <tr>\n",
       "      <th rowspan=\"48\" valign=\"top\">2020</th>\n",
       "      <th rowspan=\"16\" valign=\"top\">negative</th>\n",
       "      <th>animals</th>\n",
       "      <td>2845</td>\n",
       "    </tr>\n",
       "    <tr>\n",
       "      <th>cooking</th>\n",
       "      <td>2538</td>\n",
       "    </tr>\n",
       "    <tr>\n",
       "      <th>culture</th>\n",
       "      <td>2340</td>\n",
       "    </tr>\n",
       "    <tr>\n",
       "      <th>dogs</th>\n",
       "      <td>1816</td>\n",
       "    </tr>\n",
       "    <tr>\n",
       "      <th>education</th>\n",
       "      <td>1945</td>\n",
       "    </tr>\n",
       "    <tr>\n",
       "      <th>fitness</th>\n",
       "      <td>2001</td>\n",
       "    </tr>\n",
       "    <tr>\n",
       "      <th>food</th>\n",
       "      <td>2326</td>\n",
       "    </tr>\n",
       "    <tr>\n",
       "      <th>healthy eating</th>\n",
       "      <td>2357</td>\n",
       "    </tr>\n",
       "    <tr>\n",
       "      <th>public speaking</th>\n",
       "      <td>1647</td>\n",
       "    </tr>\n",
       "    <tr>\n",
       "      <th>science</th>\n",
       "      <td>2504</td>\n",
       "    </tr>\n",
       "    <tr>\n",
       "      <th>soccer</th>\n",
       "      <td>1931</td>\n",
       "    </tr>\n",
       "    <tr>\n",
       "      <th>studying</th>\n",
       "      <td>2047</td>\n",
       "    </tr>\n",
       "    <tr>\n",
       "      <th>technology</th>\n",
       "      <td>2187</td>\n",
       "    </tr>\n",
       "    <tr>\n",
       "      <th>tennis</th>\n",
       "      <td>1958</td>\n",
       "    </tr>\n",
       "    <tr>\n",
       "      <th>travel</th>\n",
       "      <td>2519</td>\n",
       "    </tr>\n",
       "    <tr>\n",
       "      <th>veganism</th>\n",
       "      <td>1933</td>\n",
       "    </tr>\n",
       "    <tr>\n",
       "      <th rowspan=\"16\" valign=\"top\">neutral</th>\n",
       "      <th>animals</th>\n",
       "      <td>3405</td>\n",
       "    </tr>\n",
       "    <tr>\n",
       "      <th>cooking</th>\n",
       "      <td>2630</td>\n",
       "    </tr>\n",
       "    <tr>\n",
       "      <th>culture</th>\n",
       "      <td>2945</td>\n",
       "    </tr>\n",
       "    <tr>\n",
       "      <th>dogs</th>\n",
       "      <td>2835</td>\n",
       "    </tr>\n",
       "    <tr>\n",
       "      <th>education</th>\n",
       "      <td>2840</td>\n",
       "    </tr>\n",
       "    <tr>\n",
       "      <th>fitness</th>\n",
       "      <td>2660</td>\n",
       "    </tr>\n",
       "    <tr>\n",
       "      <th>food</th>\n",
       "      <td>3155</td>\n",
       "    </tr>\n",
       "    <tr>\n",
       "      <th>healthy eating</th>\n",
       "      <td>3610</td>\n",
       "    </tr>\n",
       "    <tr>\n",
       "      <th>public speaking</th>\n",
       "      <td>1915</td>\n",
       "    </tr>\n",
       "    <tr>\n",
       "      <th>science</th>\n",
       "      <td>3485</td>\n",
       "    </tr>\n",
       "    <tr>\n",
       "      <th>soccer</th>\n",
       "      <td>2695</td>\n",
       "    </tr>\n",
       "    <tr>\n",
       "      <th>studying</th>\n",
       "      <td>2930</td>\n",
       "    </tr>\n",
       "    <tr>\n",
       "      <th>technology</th>\n",
       "      <td>2840</td>\n",
       "    </tr>\n",
       "    <tr>\n",
       "      <th>tennis</th>\n",
       "      <td>2380</td>\n",
       "    </tr>\n",
       "    <tr>\n",
       "      <th>travel</th>\n",
       "      <td>3005</td>\n",
       "    </tr>\n",
       "    <tr>\n",
       "      <th>veganism</th>\n",
       "      <td>2660</td>\n",
       "    </tr>\n",
       "    <tr>\n",
       "      <th rowspan=\"16\" valign=\"top\">positive</th>\n",
       "      <th>animals</th>\n",
       "      <td>33696</td>\n",
       "    </tr>\n",
       "    <tr>\n",
       "      <th>cooking</th>\n",
       "      <td>29994</td>\n",
       "    </tr>\n",
       "    <tr>\n",
       "      <th>culture</th>\n",
       "      <td>29896</td>\n",
       "    </tr>\n",
       "    <tr>\n",
       "      <th>dogs</th>\n",
       "      <td>24149</td>\n",
       "    </tr>\n",
       "    <tr>\n",
       "      <th>education</th>\n",
       "      <td>24675</td>\n",
       "    </tr>\n",
       "    <tr>\n",
       "      <th>fitness</th>\n",
       "      <td>25616</td>\n",
       "    </tr>\n",
       "    <tr>\n",
       "      <th>food</th>\n",
       "      <td>30150</td>\n",
       "    </tr>\n",
       "    <tr>\n",
       "      <th>healthy eating</th>\n",
       "      <td>32413</td>\n",
       "    </tr>\n",
       "    <tr>\n",
       "      <th>public speaking</th>\n",
       "      <td>23617</td>\n",
       "    </tr>\n",
       "    <tr>\n",
       "      <th>science</th>\n",
       "      <td>33226</td>\n",
       "    </tr>\n",
       "    <tr>\n",
       "      <th>soccer</th>\n",
       "      <td>27224</td>\n",
       "    </tr>\n",
       "    <tr>\n",
       "      <th>studying</th>\n",
       "      <td>24070</td>\n",
       "    </tr>\n",
       "    <tr>\n",
       "      <th>technology</th>\n",
       "      <td>30795</td>\n",
       "    </tr>\n",
       "    <tr>\n",
       "      <th>tennis</th>\n",
       "      <td>23615</td>\n",
       "    </tr>\n",
       "    <tr>\n",
       "      <th>travel</th>\n",
       "      <td>29529</td>\n",
       "    </tr>\n",
       "    <tr>\n",
       "      <th>veganism</th>\n",
       "      <td>22880</td>\n",
       "    </tr>\n",
       "    <tr>\n",
       "      <th rowspan=\"48\" valign=\"top\">2021</th>\n",
       "      <th rowspan=\"16\" valign=\"top\">negative</th>\n",
       "      <th>animals</th>\n",
       "      <td>2377</td>\n",
       "    </tr>\n",
       "    <tr>\n",
       "      <th>cooking</th>\n",
       "      <td>2156</td>\n",
       "    </tr>\n",
       "    <tr>\n",
       "      <th>culture</th>\n",
       "      <td>2229</td>\n",
       "    </tr>\n",
       "    <tr>\n",
       "      <th>dogs</th>\n",
       "      <td>1538</td>\n",
       "    </tr>\n",
       "    <tr>\n",
       "      <th>education</th>\n",
       "      <td>1725</td>\n",
       "    </tr>\n",
       "    <tr>\n",
       "      <th>fitness</th>\n",
       "      <td>1740</td>\n",
       "    </tr>\n",
       "    <tr>\n",
       "      <th>food</th>\n",
       "      <td>2099</td>\n",
       "    </tr>\n",
       "    <tr>\n",
       "      <th>healthy eating</th>\n",
       "      <td>1898</td>\n",
       "    </tr>\n",
       "    <tr>\n",
       "      <th>public speaking</th>\n",
       "      <td>1515</td>\n",
       "    </tr>\n",
       "    <tr>\n",
       "      <th>science</th>\n",
       "      <td>2058</td>\n",
       "    </tr>\n",
       "    <tr>\n",
       "      <th>soccer</th>\n",
       "      <td>1783</td>\n",
       "    </tr>\n",
       "    <tr>\n",
       "      <th>studying</th>\n",
       "      <td>1664</td>\n",
       "    </tr>\n",
       "    <tr>\n",
       "      <th>technology</th>\n",
       "      <td>1903</td>\n",
       "    </tr>\n",
       "    <tr>\n",
       "      <th>tennis</th>\n",
       "      <td>1785</td>\n",
       "    </tr>\n",
       "    <tr>\n",
       "      <th>travel</th>\n",
       "      <td>1951</td>\n",
       "    </tr>\n",
       "    <tr>\n",
       "      <th>veganism</th>\n",
       "      <td>1469</td>\n",
       "    </tr>\n",
       "    <tr>\n",
       "      <th rowspan=\"16\" valign=\"top\">neutral</th>\n",
       "      <th>animals</th>\n",
       "      <td>3110</td>\n",
       "    </tr>\n",
       "    <tr>\n",
       "      <th>cooking</th>\n",
       "      <td>2525</td>\n",
       "    </tr>\n",
       "    <tr>\n",
       "      <th>culture</th>\n",
       "      <td>2740</td>\n",
       "    </tr>\n",
       "    <tr>\n",
       "      <th>dogs</th>\n",
       "      <td>2245</td>\n",
       "    </tr>\n",
       "    <tr>\n",
       "      <th>education</th>\n",
       "      <td>2405</td>\n",
       "    </tr>\n",
       "    <tr>\n",
       "      <th>fitness</th>\n",
       "      <td>1990</td>\n",
       "    </tr>\n",
       "    <tr>\n",
       "      <th>food</th>\n",
       "      <td>2810</td>\n",
       "    </tr>\n",
       "    <tr>\n",
       "      <th>healthy eating</th>\n",
       "      <td>2190</td>\n",
       "    </tr>\n",
       "    <tr>\n",
       "      <th>public speaking</th>\n",
       "      <td>1900</td>\n",
       "    </tr>\n",
       "    <tr>\n",
       "      <th>science</th>\n",
       "      <td>2875</td>\n",
       "    </tr>\n",
       "    <tr>\n",
       "      <th>soccer</th>\n",
       "      <td>2565</td>\n",
       "    </tr>\n",
       "    <tr>\n",
       "      <th>studying</th>\n",
       "      <td>1865</td>\n",
       "    </tr>\n",
       "    <tr>\n",
       "      <th>technology</th>\n",
       "      <td>3180</td>\n",
       "    </tr>\n",
       "    <tr>\n",
       "      <th>tennis</th>\n",
       "      <td>2000</td>\n",
       "    </tr>\n",
       "    <tr>\n",
       "      <th>travel</th>\n",
       "      <td>2400</td>\n",
       "    </tr>\n",
       "    <tr>\n",
       "      <th>veganism</th>\n",
       "      <td>2015</td>\n",
       "    </tr>\n",
       "    <tr>\n",
       "      <th rowspan=\"16\" valign=\"top\">positive</th>\n",
       "      <th>animals</th>\n",
       "      <td>29532</td>\n",
       "    </tr>\n",
       "    <tr>\n",
       "      <th>cooking</th>\n",
       "      <td>24913</td>\n",
       "    </tr>\n",
       "    <tr>\n",
       "      <th>culture</th>\n",
       "      <td>26429</td>\n",
       "    </tr>\n",
       "    <tr>\n",
       "      <th>dogs</th>\n",
       "      <td>19928</td>\n",
       "    </tr>\n",
       "    <tr>\n",
       "      <th>education</th>\n",
       "      <td>23846</td>\n",
       "    </tr>\n",
       "    <tr>\n",
       "      <th>fitness</th>\n",
       "      <td>21316</td>\n",
       "    </tr>\n",
       "    <tr>\n",
       "      <th>food</th>\n",
       "      <td>26136</td>\n",
       "    </tr>\n",
       "    <tr>\n",
       "      <th>healthy eating</th>\n",
       "      <td>26871</td>\n",
       "    </tr>\n",
       "    <tr>\n",
       "      <th>public speaking</th>\n",
       "      <td>18670</td>\n",
       "    </tr>\n",
       "    <tr>\n",
       "      <th>science</th>\n",
       "      <td>27020</td>\n",
       "    </tr>\n",
       "    <tr>\n",
       "      <th>soccer</th>\n",
       "      <td>21585</td>\n",
       "    </tr>\n",
       "    <tr>\n",
       "      <th>studying</th>\n",
       "      <td>21693</td>\n",
       "    </tr>\n",
       "    <tr>\n",
       "      <th>technology</th>\n",
       "      <td>27833</td>\n",
       "    </tr>\n",
       "    <tr>\n",
       "      <th>tennis</th>\n",
       "      <td>18601</td>\n",
       "    </tr>\n",
       "    <tr>\n",
       "      <th>travel</th>\n",
       "      <td>25476</td>\n",
       "    </tr>\n",
       "    <tr>\n",
       "      <th>veganism</th>\n",
       "      <td>18662</td>\n",
       "    </tr>\n",
       "  </tbody>\n",
       "</table>\n",
       "</div>"
      ],
      "text/plain": [
       "                                Score\n",
       "Year Sentiment Category              \n",
       "2020 negative  animals           2845\n",
       "               cooking           2538\n",
       "               culture           2340\n",
       "               dogs              1816\n",
       "               education         1945\n",
       "               fitness           2001\n",
       "               food              2326\n",
       "               healthy eating    2357\n",
       "               public speaking   1647\n",
       "               science           2504\n",
       "               soccer            1931\n",
       "               studying          2047\n",
       "               technology        2187\n",
       "               tennis            1958\n",
       "               travel            2519\n",
       "               veganism          1933\n",
       "     neutral   animals           3405\n",
       "               cooking           2630\n",
       "               culture           2945\n",
       "               dogs              2835\n",
       "               education         2840\n",
       "               fitness           2660\n",
       "               food              3155\n",
       "               healthy eating    3610\n",
       "               public speaking   1915\n",
       "               science           3485\n",
       "               soccer            2695\n",
       "               studying          2930\n",
       "               technology        2840\n",
       "               tennis            2380\n",
       "               travel            3005\n",
       "               veganism          2660\n",
       "     positive  animals          33696\n",
       "               cooking          29994\n",
       "               culture          29896\n",
       "               dogs             24149\n",
       "               education        24675\n",
       "               fitness          25616\n",
       "               food             30150\n",
       "               healthy eating   32413\n",
       "               public speaking  23617\n",
       "               science          33226\n",
       "               soccer           27224\n",
       "               studying         24070\n",
       "               technology       30795\n",
       "               tennis           23615\n",
       "               travel           29529\n",
       "               veganism         22880\n",
       "2021 negative  animals           2377\n",
       "               cooking           2156\n",
       "               culture           2229\n",
       "               dogs              1538\n",
       "               education         1725\n",
       "               fitness           1740\n",
       "               food              2099\n",
       "               healthy eating    1898\n",
       "               public speaking   1515\n",
       "               science           2058\n",
       "               soccer            1783\n",
       "               studying          1664\n",
       "               technology        1903\n",
       "               tennis            1785\n",
       "               travel            1951\n",
       "               veganism          1469\n",
       "     neutral   animals           3110\n",
       "               cooking           2525\n",
       "               culture           2740\n",
       "               dogs              2245\n",
       "               education         2405\n",
       "               fitness           1990\n",
       "               food              2810\n",
       "               healthy eating    2190\n",
       "               public speaking   1900\n",
       "               science           2875\n",
       "               soccer            2565\n",
       "               studying          1865\n",
       "               technology        3180\n",
       "               tennis            2000\n",
       "               travel            2400\n",
       "               veganism          2015\n",
       "     positive  animals          29532\n",
       "               cooking          24913\n",
       "               culture          26429\n",
       "               dogs             19928\n",
       "               education        23846\n",
       "               fitness          21316\n",
       "               food             26136\n",
       "               healthy eating   26871\n",
       "               public speaking  18670\n",
       "               science          27020\n",
       "               soccer           21585\n",
       "               studying         21693\n",
       "               technology       27833\n",
       "               tennis           18601\n",
       "               travel           25476\n",
       "               veganism         18662"
      ]
     },
     "execution_count": 91,
     "metadata": {},
     "output_type": "execute_result"
    }
   ],
   "source": [
    "# Total score categorized by Year, Sentiment and Content Category\n",
    "content.pivot_table(index=['Year','Sentiment','Category'],values='Score',aggfunc='sum')"
   ]
  },
  {
   "cell_type": "markdown",
   "id": "0aa0a1e4-74c6-4d5c-bae6-0bcc42fe20a3",
   "metadata": {},
   "source": [
    "#### Result says in 2020 Animals score is Maximum in Negative and Positive Sentiment but in Neutral Sentiment Healthy eating score is Maximum. and in 2021 again Animals score is Maximum in Negative and Positive sentiment but in Neutral Technology score is Maximum."
   ]
  },
  {
   "cell_type": "code",
   "execution_count": 93,
   "id": "1d556316-6724-4ea7-b8e7-912c03342fd3",
   "metadata": {
    "tags": []
   },
   "outputs": [
    {
     "data": {
      "text/html": [
       "<div>\n",
       "<style scoped>\n",
       "    .dataframe tbody tr th:only-of-type {\n",
       "        vertical-align: middle;\n",
       "    }\n",
       "\n",
       "    .dataframe tbody tr th {\n",
       "        vertical-align: top;\n",
       "    }\n",
       "\n",
       "    .dataframe thead th {\n",
       "        text-align: right;\n",
       "    }\n",
       "</style>\n",
       "<table border=\"1\" class=\"dataframe\">\n",
       "  <thead>\n",
       "    <tr style=\"text-align: right;\">\n",
       "      <th></th>\n",
       "      <th>Score</th>\n",
       "    </tr>\n",
       "    <tr>\n",
       "      <th>Time</th>\n",
       "      <th></th>\n",
       "    </tr>\n",
       "  </thead>\n",
       "  <tbody>\n",
       "    <tr>\n",
       "      <th>06:42:55</th>\n",
       "      <td>235</td>\n",
       "    </tr>\n",
       "    <tr>\n",
       "      <th>22:16:36</th>\n",
       "      <td>207</td>\n",
       "    </tr>\n",
       "    <tr>\n",
       "      <th>20:13:01</th>\n",
       "      <td>207</td>\n",
       "    </tr>\n",
       "    <tr>\n",
       "      <th>05:20:29</th>\n",
       "      <td>207</td>\n",
       "    </tr>\n",
       "    <tr>\n",
       "      <th>22:17:35</th>\n",
       "      <td>204</td>\n",
       "    </tr>\n",
       "    <tr>\n",
       "      <th>...</th>\n",
       "      <td>...</td>\n",
       "    </tr>\n",
       "    <tr>\n",
       "      <th>19:07:37</th>\n",
       "      <td>0</td>\n",
       "    </tr>\n",
       "    <tr>\n",
       "      <th>08:38:34</th>\n",
       "      <td>0</td>\n",
       "    </tr>\n",
       "    <tr>\n",
       "      <th>14:36:36</th>\n",
       "      <td>0</td>\n",
       "    </tr>\n",
       "    <tr>\n",
       "      <th>14:36:38</th>\n",
       "      <td>0</td>\n",
       "    </tr>\n",
       "    <tr>\n",
       "      <th>04:11:01</th>\n",
       "      <td>0</td>\n",
       "    </tr>\n",
       "  </tbody>\n",
       "</table>\n",
       "<p>21314 rows × 1 columns</p>\n",
       "</div>"
      ],
      "text/plain": [
       "          Score\n",
       "Time           \n",
       "06:42:55    235\n",
       "22:16:36    207\n",
       "20:13:01    207\n",
       "05:20:29    207\n",
       "22:17:35    204\n",
       "...         ...\n",
       "19:07:37      0\n",
       "08:38:34      0\n",
       "14:36:36      0\n",
       "14:36:38      0\n",
       "04:11:01      0\n",
       "\n",
       "[21314 rows x 1 columns]"
      ]
     },
     "execution_count": 93,
     "metadata": {},
     "output_type": "execute_result"
    }
   ],
   "source": [
    "# Total score by time\n",
    "a=content.pivot_table(index=['Time'],values=['Score'],aggfunc='sum')\n",
    "a.sort_values(by='Score',ascending=False)"
   ]
  },
  {
   "cell_type": "markdown",
   "id": "2f9655c6-a27e-48b9-bd74-bb95e3b239c1",
   "metadata": {},
   "source": [
    "#### Here we found Total score is Maximum in 5 to 7 in the Morning and 8 to 11 in the Evening."
   ]
  },
  {
   "cell_type": "markdown",
   "id": "7475646e-17d5-4620-8452-e2c74ec77b85",
   "metadata": {},
   "source": [
    "## Conclusion:\n",
    "(This data is for June/2020 to June/2021)\n",
    "\n",
    "1. Most reactions have been given to Photo Content.\n",
    "2. Maximum reaction sentiment score is Positive (with 84.64%).\n",
    "3. Most reactions have been given in May followed by January.\n",
    "4. Reaction score in 2021 is less in comparison with 2020.\n",
    "5. Animal content has the highest scores, which means people love animal related contents, followed by Science and Healthy eating, with technology in fourth place.\n",
    "6. The maximum reaction score is between 5 to 7 in the Morning and 8 to 11 in the Evening."
   ]
  },
  {
   "cell_type": "code",
   "execution_count": null,
   "id": "b62d9b5b-6d38-4851-bd5d-0c8fb2aa3853",
   "metadata": {},
   "outputs": [],
   "source": []
  }
 ],
 "metadata": {
  "kernelspec": {
   "display_name": "Python 3 (ipykernel)",
   "language": "python",
   "name": "python3"
  },
  "language_info": {
   "codemirror_mode": {
    "name": "ipython",
    "version": 3
   },
   "file_extension": ".py",
   "mimetype": "text/x-python",
   "name": "python",
   "nbconvert_exporter": "python",
   "pygments_lexer": "ipython3",
   "version": "3.11.5"
  }
 },
 "nbformat": 4,
 "nbformat_minor": 5
}
